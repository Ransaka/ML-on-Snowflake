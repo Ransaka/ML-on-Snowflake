{
 "cells": [
  {
   "cell_type": "code",
   "execution_count": 1,
   "id": "88e9b98b-2b4a-460a-9ed1-46bbf06a9540",
   "metadata": {},
   "outputs": [],
   "source": [
    "from snowflake.snowpark.session import Session\n",
    "import snowflake.snowpark.functions as F\n",
    "import snowflake.snowpark.types as T\n",
    "from snowflake.snowpark.window import Window\n",
    "from sklearn.model_selection import train_test_split\n",
    "\n",
    "import sys\n",
    "import getpass\n",
    "import pandas as pd\n",
    "import matplotlib.pyplot as plt\n",
    "import numpy as np\n",
    "import seaborn as sns"
   ]
  },
  {
   "cell_type": "code",
   "execution_count": 2,
   "id": "48e012ec-e9c4-41ff-8c69-7c57a93014bb",
   "metadata": {},
   "outputs": [
    {
     "name": "stdout",
     "output_type": "stream",
     "text": [
      "connection successful!\n"
     ]
    }
   ],
   "source": [
    "from connector import sfcon\n",
    "\n",
    "session = sfcon.connect()"
   ]
  },
  {
   "cell_type": "code",
   "execution_count": 3,
   "id": "3f6beaff-1a44-4e8e-a0a3-b6a90e2a78a3",
   "metadata": {},
   "outputs": [
    {
     "data": {
      "text/plain": [
       "[Row(status='Statement executed successfully.')]"
      ]
     },
     "execution_count": 3,
     "metadata": {},
     "output_type": "execute_result"
    }
   ],
   "source": [
    "session.sql('USE DATABASE HOL_DB').collect()\n",
    "session.sql('USE schema PUBLIC').collect()\n",
    "session.sql('USE warehouse HOL_WH').collect()"
   ]
  },
  {
   "cell_type": "code",
   "execution_count": 4,
   "id": "ac2e2b36-8cfa-4ee5-b951-e15608eecd9e",
   "metadata": {},
   "outputs": [
    {
     "name": "stdout",
     "output_type": "stream",
     "text": [
      "--------------------------------------------------------------------------------------------------------------------------------------------------------------------\n",
      "|\"created_on\"                      |\"name\"     |\"is_default\"  |\"is_current\"  |\"origin\"                 |\"owner\"         |\"comment\"  |\"options\"  |\"retention_time\"  |\n",
      "--------------------------------------------------------------------------------------------------------------------------------------------------------------------\n",
      "|2022-12-18 06:02:51.495000-08:00  |HOL_DB     |N             |Y             |                         |ACCOUNTADMIN    |           |           |1                 |\n",
      "|2022-12-11 04:04:59.800000-08:00  |ML_E2E     |N             |N             |                         |DATA_SCIENTIST  |           |           |1                 |\n",
      "|2022-11-15 19:29:04.242000-08:00  |SNOWFLAKE  |N             |N             |SNOWFLAKE.ACCOUNT_USAGE  |                |           |           |1                 |\n",
      "--------------------------------------------------------------------------------------------------------------------------------------------------------------------\n",
      "\n"
     ]
    }
   ],
   "source": [
    "session.sql(\"show databases\").show()"
   ]
  },
  {
   "cell_type": "markdown",
   "id": "970eebf6-f989-450c-a530-2691683bf80b",
   "metadata": {},
   "source": [
    "In this article, we will learn how to use snowpark python api for\n",
    " - Data Preprocessing\n",
    " - Feature engineering\n",
    " - Build machine learning model and,\n",
    " - Save trained models as UDFs (User defined functions) in snowflake\n",
    " \n",
    " Let's begins"
   ]
  },
  {
   "cell_type": "code",
   "execution_count": 5,
   "id": "7a862f1c-ca25-4044-82db-e394b3c388bc",
   "metadata": {},
   "outputs": [],
   "source": [
    "df = pd.read_csv(\"data/Covid Data.csv.zip\")"
   ]
  },
  {
   "cell_type": "code",
   "execution_count": 6,
   "id": "9b4285a2-c3e5-49f1-a311-11197e6ca3a4",
   "metadata": {},
   "outputs": [
    {
     "data": {
      "text/html": [
       "<div>\n",
       "<style scoped>\n",
       "    .dataframe tbody tr th:only-of-type {\n",
       "        vertical-align: middle;\n",
       "    }\n",
       "\n",
       "    .dataframe tbody tr th {\n",
       "        vertical-align: top;\n",
       "    }\n",
       "\n",
       "    .dataframe thead th {\n",
       "        text-align: right;\n",
       "    }\n",
       "</style>\n",
       "<table border=\"1\" class=\"dataframe\">\n",
       "  <thead>\n",
       "    <tr style=\"text-align: right;\">\n",
       "      <th></th>\n",
       "      <th>USMER</th>\n",
       "      <th>MEDICAL_UNIT</th>\n",
       "      <th>SEX</th>\n",
       "      <th>PATIENT_TYPE</th>\n",
       "      <th>DATE_DIED</th>\n",
       "      <th>INTUBED</th>\n",
       "      <th>PNEUMONIA</th>\n",
       "      <th>AGE</th>\n",
       "      <th>PREGNANT</th>\n",
       "      <th>DIABETES</th>\n",
       "      <th>...</th>\n",
       "      <th>ASTHMA</th>\n",
       "      <th>INMSUPR</th>\n",
       "      <th>HIPERTENSION</th>\n",
       "      <th>OTHER_DISEASE</th>\n",
       "      <th>CARDIOVASCULAR</th>\n",
       "      <th>OBESITY</th>\n",
       "      <th>RENAL_CHRONIC</th>\n",
       "      <th>TOBACCO</th>\n",
       "      <th>CLASIFFICATION_FINAL</th>\n",
       "      <th>ICU</th>\n",
       "    </tr>\n",
       "  </thead>\n",
       "  <tbody>\n",
       "    <tr>\n",
       "      <th>0</th>\n",
       "      <td>2</td>\n",
       "      <td>1</td>\n",
       "      <td>1</td>\n",
       "      <td>1</td>\n",
       "      <td>03/05/2020</td>\n",
       "      <td>97</td>\n",
       "      <td>1</td>\n",
       "      <td>65</td>\n",
       "      <td>2</td>\n",
       "      <td>2</td>\n",
       "      <td>...</td>\n",
       "      <td>2</td>\n",
       "      <td>2</td>\n",
       "      <td>1</td>\n",
       "      <td>2</td>\n",
       "      <td>2</td>\n",
       "      <td>2</td>\n",
       "      <td>2</td>\n",
       "      <td>2</td>\n",
       "      <td>3</td>\n",
       "      <td>97</td>\n",
       "    </tr>\n",
       "    <tr>\n",
       "      <th>1</th>\n",
       "      <td>2</td>\n",
       "      <td>1</td>\n",
       "      <td>2</td>\n",
       "      <td>1</td>\n",
       "      <td>03/06/2020</td>\n",
       "      <td>97</td>\n",
       "      <td>1</td>\n",
       "      <td>72</td>\n",
       "      <td>97</td>\n",
       "      <td>2</td>\n",
       "      <td>...</td>\n",
       "      <td>2</td>\n",
       "      <td>2</td>\n",
       "      <td>1</td>\n",
       "      <td>2</td>\n",
       "      <td>2</td>\n",
       "      <td>1</td>\n",
       "      <td>1</td>\n",
       "      <td>2</td>\n",
       "      <td>5</td>\n",
       "      <td>97</td>\n",
       "    </tr>\n",
       "    <tr>\n",
       "      <th>2</th>\n",
       "      <td>2</td>\n",
       "      <td>1</td>\n",
       "      <td>2</td>\n",
       "      <td>2</td>\n",
       "      <td>09/06/2020</td>\n",
       "      <td>1</td>\n",
       "      <td>2</td>\n",
       "      <td>55</td>\n",
       "      <td>97</td>\n",
       "      <td>1</td>\n",
       "      <td>...</td>\n",
       "      <td>2</td>\n",
       "      <td>2</td>\n",
       "      <td>2</td>\n",
       "      <td>2</td>\n",
       "      <td>2</td>\n",
       "      <td>2</td>\n",
       "      <td>2</td>\n",
       "      <td>2</td>\n",
       "      <td>3</td>\n",
       "      <td>2</td>\n",
       "    </tr>\n",
       "    <tr>\n",
       "      <th>3</th>\n",
       "      <td>2</td>\n",
       "      <td>1</td>\n",
       "      <td>1</td>\n",
       "      <td>1</td>\n",
       "      <td>12/06/2020</td>\n",
       "      <td>97</td>\n",
       "      <td>2</td>\n",
       "      <td>53</td>\n",
       "      <td>2</td>\n",
       "      <td>2</td>\n",
       "      <td>...</td>\n",
       "      <td>2</td>\n",
       "      <td>2</td>\n",
       "      <td>2</td>\n",
       "      <td>2</td>\n",
       "      <td>2</td>\n",
       "      <td>2</td>\n",
       "      <td>2</td>\n",
       "      <td>2</td>\n",
       "      <td>7</td>\n",
       "      <td>97</td>\n",
       "    </tr>\n",
       "    <tr>\n",
       "      <th>4</th>\n",
       "      <td>2</td>\n",
       "      <td>1</td>\n",
       "      <td>2</td>\n",
       "      <td>1</td>\n",
       "      <td>21/06/2020</td>\n",
       "      <td>97</td>\n",
       "      <td>2</td>\n",
       "      <td>68</td>\n",
       "      <td>97</td>\n",
       "      <td>1</td>\n",
       "      <td>...</td>\n",
       "      <td>2</td>\n",
       "      <td>2</td>\n",
       "      <td>1</td>\n",
       "      <td>2</td>\n",
       "      <td>2</td>\n",
       "      <td>2</td>\n",
       "      <td>2</td>\n",
       "      <td>2</td>\n",
       "      <td>3</td>\n",
       "      <td>97</td>\n",
       "    </tr>\n",
       "  </tbody>\n",
       "</table>\n",
       "<p>5 rows × 21 columns</p>\n",
       "</div>"
      ],
      "text/plain": [
       "   USMER  MEDICAL_UNIT  SEX  PATIENT_TYPE   DATE_DIED  INTUBED  PNEUMONIA  \\\n",
       "0      2             1    1             1  03/05/2020       97          1   \n",
       "1      2             1    2             1  03/06/2020       97          1   \n",
       "2      2             1    2             2  09/06/2020        1          2   \n",
       "3      2             1    1             1  12/06/2020       97          2   \n",
       "4      2             1    2             1  21/06/2020       97          2   \n",
       "\n",
       "   AGE  PREGNANT  DIABETES  ...  ASTHMA  INMSUPR  HIPERTENSION  OTHER_DISEASE  \\\n",
       "0   65         2         2  ...       2        2             1              2   \n",
       "1   72        97         2  ...       2        2             1              2   \n",
       "2   55        97         1  ...       2        2             2              2   \n",
       "3   53         2         2  ...       2        2             2              2   \n",
       "4   68        97         1  ...       2        2             1              2   \n",
       "\n",
       "   CARDIOVASCULAR  OBESITY  RENAL_CHRONIC  TOBACCO  CLASIFFICATION_FINAL  ICU  \n",
       "0               2        2              2        2                     3   97  \n",
       "1               2        1              1        2                     5   97  \n",
       "2               2        2              2        2                     3    2  \n",
       "3               2        2              2        2                     7   97  \n",
       "4               2        2              2        2                     3   97  \n",
       "\n",
       "[5 rows x 21 columns]"
      ]
     },
     "execution_count": 6,
     "metadata": {},
     "output_type": "execute_result"
    }
   ],
   "source": [
    "df.head()"
   ]
  },
  {
   "cell_type": "code",
   "execution_count": 7,
   "id": "34309706-ece0-4054-82c9-a25c98a1d7a5",
   "metadata": {},
   "outputs": [
    {
     "data": {
      "text/plain": [
       "(1048575, 21)"
      ]
     },
     "execution_count": 7,
     "metadata": {},
     "output_type": "execute_result"
    }
   ],
   "source": [
    "df.shape"
   ]
  },
  {
   "cell_type": "code",
   "execution_count": 8,
   "id": "1cff733f-d222-42f0-be6b-318a776dbc2d",
   "metadata": {},
   "outputs": [
    {
     "name": "stdout",
     "output_type": "stream",
     "text": [
      "<class 'pandas.core.frame.DataFrame'>\n",
      "RangeIndex: 1048575 entries, 0 to 1048574\n",
      "Data columns (total 21 columns):\n",
      " #   Column                Non-Null Count    Dtype \n",
      "---  ------                --------------    ----- \n",
      " 0   USMER                 1048575 non-null  int64 \n",
      " 1   MEDICAL_UNIT          1048575 non-null  int64 \n",
      " 2   SEX                   1048575 non-null  int64 \n",
      " 3   PATIENT_TYPE          1048575 non-null  int64 \n",
      " 4   DATE_DIED             1048575 non-null  object\n",
      " 5   INTUBED               1048575 non-null  int64 \n",
      " 6   PNEUMONIA             1048575 non-null  int64 \n",
      " 7   AGE                   1048575 non-null  int64 \n",
      " 8   PREGNANT              1048575 non-null  int64 \n",
      " 9   DIABETES              1048575 non-null  int64 \n",
      " 10  COPD                  1048575 non-null  int64 \n",
      " 11  ASTHMA                1048575 non-null  int64 \n",
      " 12  INMSUPR               1048575 non-null  int64 \n",
      " 13  HIPERTENSION          1048575 non-null  int64 \n",
      " 14  OTHER_DISEASE         1048575 non-null  int64 \n",
      " 15  CARDIOVASCULAR        1048575 non-null  int64 \n",
      " 16  OBESITY               1048575 non-null  int64 \n",
      " 17  RENAL_CHRONIC         1048575 non-null  int64 \n",
      " 18  TOBACCO               1048575 non-null  int64 \n",
      " 19  CLASIFFICATION_FINAL  1048575 non-null  int64 \n",
      " 20  ICU                   1048575 non-null  int64 \n",
      "dtypes: int64(20), object(1)\n",
      "memory usage: 168.0+ MB\n"
     ]
    }
   ],
   "source": [
    "df.info()"
   ]
  },
  {
   "cell_type": "markdown",
   "id": "3e0fc700-3cea-441f-b710-89dd5df0d4a9",
   "metadata": {},
   "source": [
    "```\n",
    "Dataset description\n",
    "\n",
    "sex: 1 for female and 2 for male.\n",
    "age: of the patient.\n",
    "classification: covid test findings. Values 1-3 mean that the patient was diagnosed with covid in different\n",
    "degrees. 4 or higher means that the patient is not a carrier of covid or that the test is inconclusive.\n",
    "patient type: type of care the patient received in the unit. 1 for returned home and 2 for hospitalization.\n",
    "pneumonia: whether the patient already have air sacs inflammation or not.\n",
    "pregnancy: whether the patient is pregnant or not.\n",
    "diabetes: whether the patient has diabetes or not.\n",
    "copd: Indicates whether the patient has Chronic obstructive pulmonary disease or not.\n",
    "asthma: whether the patient has asthma or not.\n",
    "inmsupr: whether the patient is immunosuppressed or not.\n",
    "hypertension: whether the patient has hypertension or not.\n",
    "cardiovascular: whether the patient has heart or blood vessels related disease.\n",
    "renal chronic: whether the patient has chronic renal disease or not.\n",
    "other disease: whether the patient has other disease or not.\n",
    "obesity: whether the patient is obese or not.\n",
    "tobacco: whether the patient is a tobacco user.\n",
    "usmr: Indicates whether the patient treated medical units of the first, second or third level.\n",
    "medical unit: type of institution of the National Health System that provided the care.\n",
    "intubed: whether the patient was connected to the ventilator.\n",
    "icu: Indicates whether the patient had been admitted to an Intensive Care Unit.\n",
    "date died: If the patient died indicate the date of death, and 9999-99-99 otherwise.\n",
    "```"
   ]
  },
  {
   "cell_type": "code",
   "execution_count": 9,
   "id": "5dd2ff4f-1679-4d1a-ad3b-bb3ead159a3a",
   "metadata": {},
   "outputs": [
    {
     "data": {
      "text/plain": [
       "<snowflake.snowpark.table.Table at 0x28a2be58040>"
      ]
     },
     "execution_count": 9,
     "metadata": {},
     "output_type": "execute_result"
    }
   ],
   "source": [
    "#let's write dataset into snowflake\n",
    "session.write_pandas(df, table_name='COVID19_RECORDS', auto_create_table=True, overwrite=True)"
   ]
  },
  {
   "cell_type": "code",
   "execution_count": 10,
   "id": "b907a945-4956-4af5-bf2b-aa6590716621",
   "metadata": {},
   "outputs": [
    {
     "name": "stdout",
     "output_type": "stream",
     "text": [
      "--------------------------------------------------------------------------------------------------------------------------------------------------------------------------------------------------------------------------------------------------------------\n",
      "|\"created_on\"                      |\"name\"                         |\"database_name\"  |\"schema_name\"  |\"kind\"  |\"comment\"  |\"cluster_by\"  |\"rows\"   |\"bytes\"   |\"owner\"       |\"retention_time\"  |\"automatic_clustering\"  |\"change_tracking\"  |\"is_external\"  |\n",
      "--------------------------------------------------------------------------------------------------------------------------------------------------------------------------------------------------------------------------------------------------------------\n",
      "|2022-12-18 06:04:48.640000-08:00  |APPLICATION_RECORD             |HOL_DB           |PUBLIC         |TABLE   |           |              |438557   |3974656   |ACCOUNTADMIN  |1                 |OFF                     |OFF                |N              |\n",
      "|2022-12-25 21:50:29.809000-08:00  |COVID19_RECORDS                |HOL_DB           |PUBLIC         |TABLE   |           |              |1048575  |10075136  |ACCOUNTADMIN  |1                 |OFF                     |OFF                |N              |\n",
      "|2022-12-25 21:08:01.410000-08:00  |COVID19_RECORDS_PROCESSED      |HOL_DB           |PUBLIC         |TABLE   |           |              |78188    |492032    |ACCOUNTADMIN  |1                 |OFF                     |OFF                |N              |\n",
      "|2022-12-18 06:05:13.851000-08:00  |CREDIT_RECORD                  |HOL_DB           |PUBLIC         |TABLE   |           |              |1048575  |1348608   |ACCOUNTADMIN  |1                 |OFF                     |OFF                |N              |\n",
      "|2022-12-18 08:26:34.800000-08:00  |CREDIT_RISK_PREPARED           |HOL_DB           |PUBLIC         |TABLE   |           |              |30294    |228864    |ACCOUNTADMIN  |1                 |OFF                     |OFF                |N              |\n",
      "|2022-12-18 08:35:11.779000-08:00  |CREDIT_RISK_PREPARED_BALANCED  |HOL_DB           |PUBLIC         |TABLE   |           |              |59616    |549376    |ACCOUNTADMIN  |1                 |OFF                     |OFF                |N              |\n",
      "|2022-12-18 06:35:43.103000-08:00  |MY_FIRST_ANALYSIS              |HOL_DB           |PUBLIC         |TABLE   |           |              |438510   |5106176   |ACCOUNTADMIN  |1                 |OFF                     |OFF                |N              |\n",
      "--------------------------------------------------------------------------------------------------------------------------------------------------------------------------------------------------------------------------------------------------------------\n",
      "\n"
     ]
    }
   ],
   "source": [
    "#check tables available in current sechama\n",
    "session.sql('show tables').show()"
   ]
  },
  {
   "cell_type": "markdown",
   "id": "e8bfe627-dbef-457c-8f37-ea555ca08376",
   "metadata": {},
   "source": [
    "# Preprocessing"
   ]
  },
  {
   "cell_type": "code",
   "execution_count": 11,
   "id": "037ca14b-c660-4d9a-a426-3f13c037c433",
   "metadata": {},
   "outputs": [],
   "source": [
    "snowpark_df = session.table(\"COVID19_RECORDS\")"
   ]
  },
  {
   "cell_type": "code",
   "execution_count": 12,
   "id": "e23f9d40-0d22-4ea3-95fc-bec3f65cf9f3",
   "metadata": {},
   "outputs": [
    {
     "data": {
      "text/plain": [
       "snowflake.snowpark.table.Table"
      ]
     },
     "execution_count": 12,
     "metadata": {},
     "output_type": "execute_result"
    }
   ],
   "source": [
    "type(snowpark_df)"
   ]
  },
  {
   "cell_type": "code",
   "execution_count": 13,
   "id": "f9ab5574-3e74-419b-8a94-f55ff562258e",
   "metadata": {},
   "outputs": [
    {
     "name": "stdout",
     "output_type": "stream",
     "text": [
      "Size of the table object: 4.8e-05 MB\n"
     ]
    }
   ],
   "source": [
    "print(f\"Size of the table object: {(sys.getsizeof(snowpark_df)/1e6)} MB\")"
   ]
  },
  {
   "cell_type": "code",
   "execution_count": 14,
   "id": "4cfcb0f0-b9f6-438a-b3bd-62db5b4ac185",
   "metadata": {},
   "outputs": [
    {
     "data": {
      "text/plain": [
       "\u001b[1;31mInit signature:\u001b[0m\n",
       "\u001b[0msnowflake\u001b[0m\u001b[1;33m.\u001b[0m\u001b[0msnowpark\u001b[0m\u001b[1;33m.\u001b[0m\u001b[0mtable\u001b[0m\u001b[1;33m.\u001b[0m\u001b[0mTable\u001b[0m\u001b[1;33m(\u001b[0m\u001b[1;33m\n",
       "\u001b[0m    \u001b[0mtable_name\u001b[0m\u001b[1;33m:\u001b[0m \u001b[0mstr\u001b[0m\u001b[1;33m,\u001b[0m\u001b[1;33m\n",
       "\u001b[0m    \u001b[0msession\u001b[0m\u001b[1;33m:\u001b[0m \u001b[0mUnion\u001b[0m\u001b[1;33m[\u001b[0m\u001b[0mForwardRef\u001b[0m\u001b[1;33m(\u001b[0m\u001b[1;34m'snowflake.snowpark.session.Session'\u001b[0m\u001b[1;33m)\u001b[0m\u001b[1;33m,\u001b[0m \u001b[0mNoneType\u001b[0m\u001b[1;33m]\u001b[0m \u001b[1;33m=\u001b[0m \u001b[1;32mNone\u001b[0m\u001b[1;33m,\u001b[0m\u001b[1;33m\n",
       "\u001b[0m\u001b[1;33m)\u001b[0m \u001b[1;33m->\u001b[0m \u001b[1;32mNone\u001b[0m\u001b[1;33m\u001b[0m\u001b[1;33m\u001b[0m\u001b[0m\n",
       "\u001b[1;31mDocstring:\u001b[0m     \n",
       "Represents a lazily-evaluated Table. It extends :class:`DataFrame` so all\n",
       ":class:`DataFrame` operations can be applied to it.\n",
       "\n",
       "You can create a :class:`Table` object by calling :meth:`Session.table`\n",
       "with the name of the table in Snowflake. See examples in :meth:`Session.table`.\n",
       "\u001b[1;31mFile:\u001b[0m           c:\\users\\ransaka_09914\\anaconda3\\envs\\getting_started_snowpark_python\\lib\\site-packages\\snowflake\\snowpark\\table.py\n",
       "\u001b[1;31mType:\u001b[0m           type\n",
       "\u001b[1;31mSubclasses:\u001b[0m     \n"
      ]
     },
     "metadata": {},
     "output_type": "display_data"
    }
   ],
   "source": [
    "import snowflake\n",
    "?snowflake.snowpark.table.Table"
   ]
  },
  {
   "cell_type": "code",
   "execution_count": 15,
   "id": "67bbf344-45f5-43b7-8c70-5e2177eb361d",
   "metadata": {},
   "outputs": [
    {
     "data": {
      "text/plain": [
       "1048575"
      ]
     },
     "execution_count": 15,
     "metadata": {},
     "output_type": "execute_result"
    }
   ],
   "source": [
    "snowpark_df.count()"
   ]
  },
  {
   "cell_type": "code",
   "execution_count": 16,
   "id": "f8606bc6-d244-4a40-b165-77d3df188898",
   "metadata": {},
   "outputs": [
    {
     "data": {
      "text/plain": [
       "21"
      ]
     },
     "execution_count": 16,
     "metadata": {},
     "output_type": "execute_result"
    }
   ],
   "source": [
    "len(snowpark_df.columns)"
   ]
  },
  {
   "cell_type": "code",
   "execution_count": 17,
   "id": "b0c76e7a-9c26-4de9-bb40-c6cc72e2d6d2",
   "metadata": {},
   "outputs": [
    {
     "data": {
      "text/plain": [
       "[StructField('USMER', LongType(), nullable=True),\n",
       " StructField('MEDICAL_UNIT', LongType(), nullable=True),\n",
       " StructField('SEX', LongType(), nullable=True),\n",
       " StructField('PATIENT_TYPE', LongType(), nullable=True),\n",
       " StructField('DATE_DIED', StringType(), nullable=True),\n",
       " StructField('INTUBED', LongType(), nullable=True),\n",
       " StructField('PNEUMONIA', LongType(), nullable=True),\n",
       " StructField('AGE', LongType(), nullable=True),\n",
       " StructField('PREGNANT', LongType(), nullable=True),\n",
       " StructField('DIABETES', LongType(), nullable=True),\n",
       " StructField('COPD', LongType(), nullable=True),\n",
       " StructField('ASTHMA', LongType(), nullable=True),\n",
       " StructField('INMSUPR', LongType(), nullable=True),\n",
       " StructField('HIPERTENSION', LongType(), nullable=True),\n",
       " StructField('OTHER_DISEASE', LongType(), nullable=True),\n",
       " StructField('CARDIOVASCULAR', LongType(), nullable=True),\n",
       " StructField('OBESITY', LongType(), nullable=True),\n",
       " StructField('RENAL_CHRONIC', LongType(), nullable=True),\n",
       " StructField('TOBACCO', LongType(), nullable=True),\n",
       " StructField('CLASIFFICATION_FINAL', LongType(), nullable=True),\n",
       " StructField('ICU', LongType(), nullable=True)]"
      ]
     },
     "execution_count": 17,
     "metadata": {},
     "output_type": "execute_result"
    }
   ],
   "source": [
    "snowpark_df.schema.fields"
   ]
  },
  {
   "cell_type": "code",
   "execution_count": 18,
   "id": "69a7f915-1b46-4f51-9b23-f9d2f7912931",
   "metadata": {},
   "outputs": [
    {
     "name": "stdout",
     "output_type": "stream",
     "text": [
      "Column[\"USMER\"] has 2 unique values\n",
      "Column[\"MEDICAL_UNIT\"] has 13 unique values\n",
      "Column[\"SEX\"] has 2 unique values\n",
      "Column[\"PATIENT_TYPE\"] has 2 unique values\n",
      "Column[\"DATE_DIED\"] has 401 unique values\n",
      "Column[\"INTUBED\"] has 4 unique values\n",
      "Column[\"PNEUMONIA\"] has 3 unique values\n",
      "Column[\"AGE\"] has 121 unique values\n",
      "Column[\"PREGNANT\"] has 4 unique values\n",
      "Column[\"DIABETES\"] has 3 unique values\n",
      "Column[\"COPD\"] has 3 unique values\n",
      "Column[\"ASTHMA\"] has 3 unique values\n",
      "Column[\"INMSUPR\"] has 3 unique values\n",
      "Column[\"HIPERTENSION\"] has 3 unique values\n",
      "Column[\"OTHER_DISEASE\"] has 3 unique values\n",
      "Column[\"CARDIOVASCULAR\"] has 3 unique values\n",
      "Column[\"OBESITY\"] has 3 unique values\n",
      "Column[\"RENAL_CHRONIC\"] has 3 unique values\n",
      "Column[\"TOBACCO\"] has 3 unique values\n",
      "Column[\"CLASIFFICATION_FINAL\"] has 7 unique values\n",
      "Column[\"ICU\"] has 4 unique values\n"
     ]
    }
   ],
   "source": [
    "for column in snowpark_df:\n",
    "    print(column,'has',snowpark_df[[column]].distinct().count(),'unique values')"
   ]
  },
  {
   "cell_type": "code",
   "execution_count": 19,
   "id": "cb04b5ce-c10b-47d8-a12f-dbee5a4fa079",
   "metadata": {},
   "outputs": [
    {
     "name": "stdout",
     "output_type": "stream",
     "text": [
      "---------\n",
      "|\"SEX\"  |\n",
      "---------\n",
      "|1      |\n",
      "|2      |\n",
      "|2      |\n",
      "|1      |\n",
      "|2      |\n",
      "|1      |\n",
      "|1      |\n",
      "|1      |\n",
      "|1      |\n",
      "|1      |\n",
      "---------\n",
      "\n"
     ]
    }
   ],
   "source": [
    "snowpark_df.select(\"SEX\").show()"
   ]
  },
  {
   "cell_type": "code",
   "execution_count": 20,
   "id": "2932e7d9-d0af-4f73-aee6-a005284091ac",
   "metadata": {},
   "outputs": [
    {
     "name": "stdout",
     "output_type": "stream",
     "text": [
      "--------------------------------------\n",
      "|\"SUMMARY\"  |\"CLASIFFICATION_FINAL\"  |\n",
      "--------------------------------------\n",
      "|count      |1048575.0               |\n",
      "|mean       |5.305653                |\n",
      "|stddev     |1.8811653303205436      |\n",
      "|max        |7.0                     |\n",
      "|min        |1.0                     |\n",
      "--------------------------------------\n",
      "\n"
     ]
    }
   ],
   "source": [
    "snowpark_df[['CLASIFFICATION_FINAL']].describe().show()"
   ]
  },
  {
   "cell_type": "code",
   "execution_count": 21,
   "id": "bac5108d-1530-401a-a137-08f38c34d761",
   "metadata": {},
   "outputs": [
    {
     "name": "stdout",
     "output_type": "stream",
     "text": [
      "------------------------------------\n",
      "|\"CLASIFFICATION_FINAL\"  |\"COUNT\"  |\n",
      "------------------------------------\n",
      "|3                       |381527   |\n",
      "|5                       |26091    |\n",
      "|7                       |499250   |\n",
      "|6                       |128133   |\n",
      "|1                       |8601     |\n",
      "|2                       |1851     |\n",
      "|4                       |3122     |\n",
      "------------------------------------\n",
      "\n"
     ]
    }
   ],
   "source": [
    "snowpark_df.group_by(\"CLASIFFICATION_FINAL\").count().show()"
   ]
  },
  {
   "cell_type": "markdown",
   "id": "dc075605-f069-49a7-a730-d0b1de78d47a",
   "metadata": {},
   "source": [
    "```sql \n",
    "SELECT\n",
    "    \"USMER\",\n",
    "    \"MEDICAL_UNIT\",\n",
    "    \"SEX\",\n",
    "    \"PATIENT_TYPE\",\n",
    "    \"DATE_DIED\",\n",
    "    \"INTUBED\",\n",
    "    \"PNEUMONIA\",\n",
    "    \"AGE\",\n",
    "    \"PREGNANT\",\n",
    "    \"DIABETES\",\n",
    "    \"COPD\",\n",
    "    \"ASTHMA\",\n",
    "    \"INMSUPR\",\n",
    "    \"HIPERTENSION\",\n",
    "    \"OTHER_DISEASE\",\n",
    "    \"CARDIOVASCULAR\",\n",
    "    \"OBESITY\",\n",
    "    \"RENAL_CHRONIC\",\n",
    "    \"TOBACCO\",\n",
    "    \"CLASIFFICATION_FINAL\",\n",
    "    \"ICU\",\n",
    "    CASE\n",
    "        WHEN (\"CLASIFFICATION_FINAL\" < 4 :: INT) THEN 1 :: INT\n",
    "        ELSE 0 :: INT\n",
    "    END AS \"TARGET\"\n",
    "FROM\n",
    "    COVID19_RECORDS\n",
    "```"
   ]
  },
  {
   "cell_type": "code",
   "execution_count": 22,
   "id": "3492f1b7-acbb-4082-9c0e-1041ec7f6368",
   "metadata": {},
   "outputs": [],
   "source": [
    "snowpark_df = snowpark_df.with_column('TARGET', F.when(F.col('CLASIFFICATION_FINAL')\n",
    "                        < 4, 1).otherwise(0))"
   ]
  },
  {
   "cell_type": "code",
   "execution_count": 23,
   "id": "cfdb3b63-bfda-4e59-bd3f-1a2022c51ec4",
   "metadata": {
    "tags": []
   },
   "outputs": [
    {
     "data": {
      "image/png": "[encoded data removed]",
      "text/plain": [
       "<Figure size 640x480 with 1 Axes>"
      ]
     },
     "metadata": {},
     "output_type": "display_data"
    }
   ],
   "source": [
    "snowpark_df\\\n",
    ".group_by(\"TARGET\").count().to_pandas().set_index(\"TARGET\")\\\n",
    ".plot.bar()\n",
    "\n",
    "plt.title(\"Target distribution\",fontweight='semibold')\n",
    "plt.show()"
   ]
  },
  {
   "cell_type": "code",
   "execution_count": 24,
   "id": "f5baebdf-59e4-4cf6-8827-a8d94b32670a",
   "metadata": {},
   "outputs": [
    {
     "name": "stderr",
     "output_type": "stream",
     "text": [
      "Input key or value type doesn't match the target column data type, this replacement was skipped. Column Name: \"DATE_DIED\", Type: StringType(), Input Key: 97, Type: <class 'int'>, Input Value: None, Type: <class 'NoneType'>\n",
      "Input key or value type doesn't match the target column data type, this replacement was skipped. Column Name: \"DATE_DIED\", Type: StringType(), Input Key: 99, Type: <class 'int'>, Input Value: None, Type: <class 'NoneType'>\n"
     ]
    }
   ],
   "source": [
    "snowpark_df = snowpark_df.replace([97,99],value=None)"
   ]
  },
  {
   "cell_type": "code",
   "execution_count": 25,
   "id": "c7182621-227e-409e-aa00-e2d28e31d494",
   "metadata": {},
   "outputs": [
    {
     "data": {
      "image/png": "[encoded data removed]",
      "text/plain": [
       "<Figure size 640x480 with 1 Axes>"
      ]
     },
     "metadata": {},
     "output_type": "display_data"
    }
   ],
   "source": [
    "snowpark_df\\\n",
    ".select('AGE').to_pandas()\\\n",
    ".plot.hist(bins=100,alpha=0.8)\n",
    "\n",
    "plt.title(\"Age distribution\",fontweight='semibold')\n",
    "plt.show()"
   ]
  },
  {
   "cell_type": "code",
   "execution_count": 26,
   "id": "17e7af17-aa97-42fd-97b3-c36a57e90e54",
   "metadata": {},
   "outputs": [
    {
     "name": "stdout",
     "output_type": "stream",
     "text": [
      "---------------------\n",
      "|\"OO\"       |\"AGE\"  |\n",
      "---------------------\n",
      "|OLD ADULT  |65     |\n",
      "|OLD ADULT  |72     |\n",
      "|OLD ADULT  |55     |\n",
      "|OLD ADULT  |53     |\n",
      "|OLD ADULT  |68     |\n",
      "|ADULT      |40     |\n",
      "|OLD ADULT  |64     |\n",
      "|OLD ADULT  |64     |\n",
      "|ADULT      |37     |\n",
      "|ADULT      |25     |\n",
      "---------------------\n",
      "\n"
     ]
    }
   ],
   "source": [
    "snowpark_df.select(F.when(F.col('AGE') < 21, 'YOUNG'\n",
    "                   ).otherwise(F.when(F.col('AGE') < 49, 'ADULT'\n",
    "                   ).otherwise('OLD ADULT')).as_('OO'), 'AGE').show()"
   ]
  },
  {
   "cell_type": "code",
   "execution_count": 27,
   "id": "6fe97f7f-48d0-42b3-afaa-bbb5646c506c",
   "metadata": {},
   "outputs": [],
   "source": [
    "snowpark_df = snowpark_df.with_column(\n",
    "    \"AGE_BKT\",\n",
    "    F.when(F.col(\"AGE\") < 21, \"YOUNG\").otherwise(\n",
    "        F.when(F.col(\"AGE\") < 49, \"ADULT\").otherwise(\"OLD ADULT\")\n",
    "    ),\n",
    ")"
   ]
  },
  {
   "cell_type": "code",
   "execution_count": 28,
   "id": "d759eb47-1aff-4db3-aa8d-a1172174433a",
   "metadata": {},
   "outputs": [],
   "source": [
    "age_bkt_df = snowpark_df.select(\n",
    "    F.col(\"AGE_BKT\"),\n",
    "    F.when((F.col(\"AGE_BKT\")=='YOUNG') & (F.col(\"TARGET\")==1),1).otherwise(0).as_(\"YOUNG_\"),\n",
    "    F.when((F.col(\"AGE_BKT\")=='ADULT') & (F.col(\"TARGET\")==1),1).otherwise(0).as_(\"ADULT_\"),\n",
    "    F.when((F.col(\"AGE_BKT\")=='OLD ADULT') & (F.col(\"TARGET\")==1),1).otherwise(0).as_(\"OLD_ADULT_\")\n",
    ")"
   ]
  },
  {
   "cell_type": "code",
   "execution_count": 29,
   "id": "b5a1cf44-f56b-4c8e-8090-b2f0bae6e390",
   "metadata": {},
   "outputs": [
    {
     "name": "stdout",
     "output_type": "stream",
     "text": [
      "-----------------------\n",
      "|\"AGE_BKT\"  |\"COUNT\"  |\n",
      "-----------------------\n",
      "|OLD ADULT  |342413   |\n",
      "|ADULT      |628554   |\n",
      "|YOUNG      |77608    |\n",
      "-----------------------\n",
      "\n"
     ]
    }
   ],
   "source": [
    "age_bkt_df.group_by(F.col(\"AGE_BKT\")).count().show()"
   ]
  },
  {
   "cell_type": "code",
   "execution_count": 30,
   "id": "c3fb745d-4bc5-4c4a-b8cb-2a9c976a4500",
   "metadata": {},
   "outputs": [
    {
     "data": {
      "image/png": "[encoded data removed]",
      "text/plain": [
       "<Figure size 640x480 with 1 Axes>"
      ]
     },
     "metadata": {},
     "output_type": "display_data"
    }
   ],
   "source": [
    "age_bkt_df.group_by(F.col(\"AGE_BKT\")).count().to_pandas().set_index(\"AGE_BKT\")\\\n",
    ".plot.barh(alpha=0.8)\n",
    "\n",
    "plt.title(\"Cases count by gender bucket\",fontweight='semibold')\n",
    "plt.show()"
   ]
  },
  {
   "cell_type": "code",
   "execution_count": 31,
   "id": "f7cfeabd-15a6-412b-aa52-7743f4ac6cdd",
   "metadata": {},
   "outputs": [
    {
     "name": "stdout",
     "output_type": "stream",
     "text": [
      "--------------------------------------------------------------------\n",
      "|\"YOUNG % OF CASES\"  |\"ADULT % OF CASES\"  |\"OLD_ADULT % OF CASES\"  |\n",
      "--------------------------------------------------------------------\n",
      "|1.534463            |20.877858           |14.969745               |\n",
      "--------------------------------------------------------------------\n",
      "\n"
     ]
    }
   ],
   "source": [
    "age_bkt_df.select(\n",
    "    ((F.sum(\"YOUNG_\") * 100 ) / F.count(\"YOUNG_\")).as_(\"YOUNG % OF CASES\"),\n",
    "    ((F.sum(\"ADULT_\") * 100) / F.count(\"ADULT_\")).as_(\"ADULT % OF CASES\"),\n",
    "    ((F.sum(\"OLD_ADULT_\") * 100) / F.count(\"OLD_ADULT_\")).as_(\"OLD_ADULT % OF CASES\")\n",
    ").show()"
   ]
  },
  {
   "cell_type": "code",
   "execution_count": 32,
   "id": "f216f7e8-12f1-4374-bc84-79379b6472b4",
   "metadata": {},
   "outputs": [
    {
     "data": {
      "image/png": "[encoded data removed]",
      "text/plain": [
       "<Figure size 640x480 with 1 Axes>"
      ]
     },
     "metadata": {},
     "output_type": "display_data"
    }
   ],
   "source": [
    "age_bkt_df.select(\n",
    "    (F.as_double((F.sum(\"YOUNG_\") ) * 100 / F.count(\"YOUNG_\"))).as_(\"YOUNG % OF CASES\"),\n",
    "    (F.as_double((F.sum(\"ADULT_\")) * 100 / F.count(\"ADULT_\"))).as_(\"ADULT % OF CASES\"),\n",
    "    (F.as_double((F.sum(\"OLD_ADULT_\")) * 100 / F.count(\"OLD_ADULT_\"))).as_(\"OLD_ADULT % OF CASES\")\n",
    ").to_pandas().T\\\n",
    ".plot.barh()\n",
    "\n",
    "plt.show()"
   ]
  },
  {
   "cell_type": "code",
   "execution_count": 33,
   "id": "52a6b530-21e8-45ca-b522-e4843799a203",
   "metadata": {},
   "outputs": [
    {
     "name": "stdout",
     "output_type": "stream",
     "text": [
      "-----------------------------\n",
      "|\"IS_USMER_NULL\"  |\"COUNT\"  |\n",
      "-----------------------------\n",
      "|NO               |1048575  |\n",
      "-----------------------------\n",
      "\n",
      "------------------------------------\n",
      "|\"IS_MEDICAL_UNIT_NULL\"  |\"COUNT\"  |\n",
      "------------------------------------\n",
      "|NO                      |1048575  |\n",
      "------------------------------------\n",
      "\n",
      "---------------------------\n",
      "|\"IS_SEX_NULL\"  |\"COUNT\"  |\n",
      "---------------------------\n",
      "|NO             |1048575  |\n",
      "---------------------------\n",
      "\n",
      "------------------------------------\n",
      "|\"IS_PATIENT_TYPE_NULL\"  |\"COUNT\"  |\n",
      "------------------------------------\n",
      "|NO                      |1048575  |\n",
      "------------------------------------\n",
      "\n",
      "---------------------------------\n",
      "|\"IS_DATE_DIED_NULL\"  |\"COUNT\"  |\n",
      "---------------------------------\n",
      "|NO                   |1048575  |\n",
      "---------------------------------\n",
      "\n",
      "-------------------------------\n",
      "|\"IS_INTUBED_NULL\"  |\"COUNT\"  |\n",
      "-------------------------------\n",
      "|YES                |855869   |\n",
      "|NO                 |192706   |\n",
      "-------------------------------\n",
      "\n",
      "---------------------------------\n",
      "|\"IS_PNEUMONIA_NULL\"  |\"COUNT\"  |\n",
      "---------------------------------\n",
      "|NO                   |1032572  |\n",
      "|YES                  |16003    |\n",
      "---------------------------------\n",
      "\n",
      "---------------------------\n",
      "|\"IS_AGE_NULL\"  |\"COUNT\"  |\n",
      "---------------------------\n",
      "|NO             |1048354  |\n",
      "|YES            |221      |\n",
      "---------------------------\n",
      "\n",
      "--------------------------------\n",
      "|\"IS_PREGNANT_NULL\"  |\"COUNT\"  |\n",
      "--------------------------------\n",
      "|NO                  |525064   |\n",
      "|YES                 |523511   |\n",
      "--------------------------------\n",
      "\n",
      "--------------------------------\n",
      "|\"IS_DIABETES_NULL\"  |\"COUNT\"  |\n",
      "--------------------------------\n",
      "|NO                  |1048575  |\n",
      "--------------------------------\n",
      "\n",
      "----------------------------\n",
      "|\"IS_COPD_NULL\"  |\"COUNT\"  |\n",
      "----------------------------\n",
      "|NO              |1048575  |\n",
      "----------------------------\n",
      "\n",
      "------------------------------\n",
      "|\"IS_ASTHMA_NULL\"  |\"COUNT\"  |\n",
      "------------------------------\n",
      "|NO                |1048575  |\n",
      "------------------------------\n",
      "\n",
      "-------------------------------\n",
      "|\"IS_INMSUPR_NULL\"  |\"COUNT\"  |\n",
      "-------------------------------\n",
      "|NO                 |1048575  |\n",
      "-------------------------------\n",
      "\n",
      "------------------------------------\n",
      "|\"IS_HIPERTENSION_NULL\"  |\"COUNT\"  |\n",
      "------------------------------------\n",
      "|NO                      |1048575  |\n",
      "------------------------------------\n",
      "\n",
      "-------------------------------------\n",
      "|\"IS_OTHER_DISEASE_NULL\"  |\"COUNT\"  |\n",
      "-------------------------------------\n",
      "|NO                       |1048575  |\n",
      "-------------------------------------\n",
      "\n",
      "--------------------------------------\n",
      "|\"IS_CARDIOVASCULAR_NULL\"  |\"COUNT\"  |\n",
      "--------------------------------------\n",
      "|NO                        |1048575  |\n",
      "--------------------------------------\n",
      "\n",
      "-------------------------------\n",
      "|\"IS_OBESITY_NULL\"  |\"COUNT\"  |\n",
      "-------------------------------\n",
      "|NO                 |1048575  |\n",
      "-------------------------------\n",
      "\n",
      "-------------------------------------\n",
      "|\"IS_RENAL_CHRONIC_NULL\"  |\"COUNT\"  |\n",
      "-------------------------------------\n",
      "|NO                       |1048575  |\n",
      "-------------------------------------\n",
      "\n",
      "-------------------------------\n",
      "|\"IS_TOBACCO_NULL\"  |\"COUNT\"  |\n",
      "-------------------------------\n",
      "|NO                 |1048575  |\n",
      "-------------------------------\n",
      "\n",
      "--------------------------------------------\n",
      "|\"IS_CLASIFFICATION_FINAL_NULL\"  |\"COUNT\"  |\n",
      "--------------------------------------------\n",
      "|NO                              |1048575  |\n",
      "--------------------------------------------\n",
      "\n",
      "---------------------------\n",
      "|\"IS_ICU_NULL\"  |\"COUNT\"  |\n",
      "---------------------------\n",
      "|YES            |856032   |\n",
      "|NO             |192543   |\n",
      "---------------------------\n",
      "\n",
      "------------------------------\n",
      "|\"IS_TARGET_NULL\"  |\"COUNT\"  |\n",
      "------------------------------\n",
      "|NO                |1048575  |\n",
      "------------------------------\n",
      "\n",
      "-------------------------------\n",
      "|\"IS_AGE_BKT_NULL\"  |\"COUNT\"  |\n",
      "-------------------------------\n",
      "|NO                 |1048575  |\n",
      "-------------------------------\n",
      "\n"
     ]
    }
   ],
   "source": [
    "for col in snowpark_df.columns:\n",
    "    snowpark_df.with_column(f\"IS_{col}_NULL\",F.when(F.is_null(col),\"YES\").otherwise(\"NO\")).group_by(f'IS_{col}_NULL').count().show()"
   ]
  },
  {
   "cell_type": "code",
   "execution_count": 34,
   "id": "48763151-89c8-443f-aa9a-fcea1ac53dd4",
   "metadata": {},
   "outputs": [],
   "source": [
    "snowpark_df = snowpark_df.drop([\"ICU\",\"DATE_DIED\",\"CLASIFFICATION_FINAL\",\"AGE_BKT\"])"
   ]
  },
  {
   "cell_type": "code",
   "execution_count": 35,
   "id": "5a2991e7-b654-42b6-b721-899906722a5c",
   "metadata": {},
   "outputs": [
    {
     "name": "stdout",
     "output_type": "stream",
     "text": [
      "----------------------\n",
      "|\"TARGET\"  |\"COUNT\"  |\n",
      "----------------------\n",
      "|1         |41926    |\n",
      "|0         |36262    |\n",
      "----------------------\n",
      "\n"
     ]
    }
   ],
   "source": [
    "snowpark_df.dropna().group_by(\"TARGET\").count().show()"
   ]
  },
  {
   "cell_type": "code",
   "execution_count": 36,
   "id": "0aa788d8-54ce-4e0d-ab94-6c8496d297f5",
   "metadata": {},
   "outputs": [],
   "source": [
    "snowpark_df = snowpark_df.dropna()"
   ]
  },
  {
   "cell_type": "markdown",
   "id": "8994641f-04b9-4db7-bc10-8fd50f49d3eb",
   "metadata": {},
   "source": [
    "Also you can check the queries generated as below"
   ]
  },
  {
   "cell_type": "code",
   "execution_count": 37,
   "id": "af153fdd-65c5-40ae-91e0-c4442fb3cbf6",
   "metadata": {},
   "outputs": [],
   "source": [
    "# snowpark_df.queries['queries'][0]"
   ]
  },
  {
   "cell_type": "markdown",
   "id": "87e5b63c-5acb-474d-ad4d-c613a52057bc",
   "metadata": {},
   "source": [
    "``` sql \n",
    "SELECT\n",
    "    *\n",
    "FROM\n",
    "    (\n",
    "        SELECT\n",
    "            \"USMER\",\n",
    "            \"MEDICAL_UNIT\",\n",
    "            \"SEX\",\n",
    "            \"PATIENT_TYPE\",\n",
    "            \"DATE_DIED\",\n",
    "            \"INTUBED\",\n",
    "            \"PNEUMONIA\",\n",
    "            \"AGE\",\n",
    "            \"PREGNANT\",\n",
    "            \"DIABETES\",\n",
    "            \"COPD\",\n",
    "            \"ASTHMA\",\n",
    "            \"INMSUPR\",\n",
    "            \"HIPERTENSION\",\n",
    "            \"OTHER_DISEASE\",\n",
    "            \"CARDIOVASCULAR\",\n",
    "            \"OBESITY\",\n",
    "            \"RENAL_CHRONIC\",\n",
    "            \"TOBACCO\",\n",
    "            \"CLASIFFICATION_FINAL\",\n",
    "            \"TARGET\"\n",
    "        FROM\n",
    "            (\n",
    "                SELECT\n",
    "                    CASE\n",
    "                        WHEN (\"USMER\" = 97 :: INT) THEN NULL\n",
    "                        WHEN (\"USMER\" = 99 :: INT) THEN NULL\n",
    "                        ELSE \"USMER\"\n",
    "                    END AS \"USMER\",\n",
    "                    CASE\n",
    "                        WHEN (\"MEDICAL_UNIT\" = 97 :: INT) THEN NULL\n",
    "                        WHEN (\"MEDICAL_UNIT\" = 99 :: INT) THEN NULL\n",
    "                        ELSE \"MEDICAL_UNIT\"\n",
    "                    END AS \"MEDICAL_UNIT\",\n",
    "                    CASE\n",
    "                        WHEN (\"SEX\" = 97 :: INT) THEN NULL\n",
    "                        WHEN (\"SEX\" = 99 :: INT) THEN NULL\n",
    "                        ELSE \"SEX\"\n",
    "                    END AS \"SEX\",\n",
    "                    CASE\n",
    "                        WHEN (\"PATIENT_TYPE\" = 97 :: INT) THEN NULL\n",
    "                        WHEN (\"PATIENT_TYPE\" = 99 :: INT) THEN NULL\n",
    "                        ELSE \"PATIENT_TYPE\"\n",
    "                    END AS \"PATIENT_TYPE\",\n",
    "                    \"DATE_DIED\",\n",
    "                    CASE\n",
    "                        WHEN (\"INTUBED\" = 97 :: INT) THEN NULL\n",
    "                        WHEN (\"INTUBED\" = 99 :: INT) THEN NULL\n",
    "                        ELSE \"INTUBED\"\n",
    "                    END AS \"INTUBED\",\n",
    "                    CASE\n",
    "                        WHEN (\"PNEUMONIA\" = 97 :: INT) THEN NULL\n",
    "                        WHEN (\"PNEUMONIA\" = 99 :: INT) THEN NULL\n",
    "                        ELSE \"PNEUMONIA\"\n",
    "                    END AS \"PNEUMONIA\",\n",
    "                    CASE\n",
    "                        WHEN (\"AGE\" = 97 :: INT) THEN NULL\n",
    "                        WHEN (\"AGE\" = 99 :: INT) THEN NULL\n",
    "                        ELSE \"AGE\"\n",
    "                    END AS \"AGE\",\n",
    "                    CASE\n",
    "                        WHEN (\"PREGNANT\" = 97 :: INT) THEN NULL\n",
    "                        WHEN (\"PREGNANT\" = 99 :: INT) THEN NULL\n",
    "                        ELSE \"PREGNANT\"\n",
    "                    END AS \"PREGNANT\",\n",
    "                    CASE\n",
    "                        WHEN (\"DIABETES\" = 97 :: INT) THEN NULL\n",
    "                        WHEN (\"DIABETES\" = 99 :: INT) THEN NULL\n",
    "                        ELSE \"DIABETES\"\n",
    "                    END AS \"DIABETES\",\n",
    "                    CASE\n",
    "                        WHEN (\"COPD\" = 97 :: INT) THEN NULL\n",
    "                        WHEN (\"COPD\" = 99 :: INT) THEN NULL\n",
    "                        ELSE \"COPD\"\n",
    "                    END AS \"COPD\",\n",
    "                    CASE\n",
    "                        WHEN (\"ASTHMA\" = 97 :: INT) THEN NULL\n",
    "                        WHEN (\"ASTHMA\" = 99 :: INT) THEN NULL\n",
    "                        ELSE \"ASTHMA\"\n",
    "                    END AS \"ASTHMA\",\n",
    "                    CASE\n",
    "                        WHEN (\"INMSUPR\" = 97 :: INT) THEN NULL\n",
    "                        WHEN (\"INMSUPR\" = 99 :: INT) THEN NULL\n",
    "                        ELSE \"INMSUPR\"\n",
    "                    END AS \"INMSUPR\",\n",
    "                    CASE\n",
    "                        WHEN (\"HIPERTENSION\" = 97 :: INT) THEN NULL\n",
    "                        WHEN (\"HIPERTENSION\" = 99 :: INT) THEN NULL\n",
    "                        ELSE \"HIPERTENSION\"\n",
    "                    END AS \"HIPERTENSION\",\n",
    "                    CASE\n",
    "                        WHEN (\"OTHER_DISEASE\" = 97 :: INT) THEN NULL\n",
    "                        WHEN (\"OTHER_DISEASE\" = 99 :: INT) THEN NULL\n",
    "                        ELSE \"OTHER_DISEASE\"\n",
    "                    END AS \"OTHER_DISEASE\",\n",
    "                    CASE\n",
    "                        WHEN (\"CARDIOVASCULAR\" = 97 :: INT) THEN NULL\n",
    "                        WHEN (\"CARDIOVASCULAR\" = 99 :: INT) THEN NULL\n",
    "                        ELSE \"CARDIOVASCULAR\"\n",
    "                    END AS \"CARDIOVASCULAR\",\n",
    "                    CASE\n",
    "                        WHEN (\"OBESITY\" = 97 :: INT) THEN NULL\n",
    "                        WHEN (\"OBESITY\" = 99 :: INT) THEN NULL\n",
    "                        ELSE \"OBESITY\"\n",
    "                    END AS \"OBESITY\",\n",
    "                    CASE\n",
    "                        WHEN (\"RENAL_CHRONIC\" = 97 :: INT) THEN NULL\n",
    "                        WHEN (\"RENAL_CHRONIC\" = 99 :: INT) THEN NULL\n",
    "                        ELSE \"RENAL_CHRONIC\"\n",
    "                    END AS \"RENAL_CHRONIC\",\n",
    "                    CASE\n",
    "                        WHEN (\"TOBACCO\" = 97 :: INT) THEN NULL\n",
    "                        WHEN (\"TOBACCO\" = 99 :: INT) THEN NULL\n",
    "                        ELSE \"TOBACCO\"\n",
    "                    END AS \"TOBACCO\",\n",
    "                    CASE\n",
    "                        WHEN (\"CLASIFFICATION_FINAL\" = 97 :: INT) THEN NULL\n",
    "                        WHEN (\"CLASIFFICATION_FINAL\" = 99 :: INT) THEN NULL\n",
    "                        ELSE \"CLASIFFICATION_FINAL\"\n",
    "                    END AS \"CLASIFFICATION_FINAL\",\n",
    "                    CASE\n",
    "                        WHEN (\"ICU\" = 97 :: INT) THEN NULL\n",
    "                        WHEN (\"ICU\" = 99 :: INT) THEN NULL\n",
    "                        ELSE \"ICU\"\n",
    "                    END AS \"ICU\",\n",
    "                    CASE\n",
    "                        WHEN (\"TARGET\" = 97 :: INT) THEN NULL\n",
    "                        WHEN (\"TARGET\" = 99 :: INT) THEN NULL\n",
    "                        ELSE \"TARGET\"\n",
    "                    END AS \"TARGET\"\n",
    "                FROM\n",
    "                    (\n",
    "                        SELECT\n",
    "                            \"USMER\",\n",
    "                            \"MEDICAL_UNIT\",\n",
    "                            \"SEX\",\n",
    "                            \"PATIENT_TYPE\",\n",
    "                            \"DATE_DIED\",\n",
    "                            \"INTUBED\",\n",
    "                            \"PNEUMONIA\",\n",
    "                            \"AGE\",\n",
    "                            \"PREGNANT\",\n",
    "                            \"DIABETES\",\n",
    "                            \"COPD\",\n",
    "                            \"ASTHMA\",\n",
    "                            \"INMSUPR\",\n",
    "                            \"HIPERTENSION\",\n",
    "                            \"OTHER_DISEASE\",\n",
    "                            \"CARDIOVASCULAR\",\n",
    "                            \"OBESITY\",\n",
    "                            \"RENAL_CHRONIC\",\n",
    "                            \"TOBACCO\",\n",
    "                            \"CLASIFFICATION_FINAL\",\n",
    "                            \"ICU\",\n",
    "                            CASE\n",
    "                                WHEN (\"CLASIFFICATION_FINAL\" < 4 :: INT) THEN 1 :: INT\n",
    "                                ELSE 0 :: INT\n",
    "                            END AS \"TARGET\"\n",
    "                        FROM\n",
    "                            (\n",
    "                                SELECT\n",
    "                                    *\n",
    "                                FROM\n",
    "                                    (COVID19_RECORDS)\n",
    "                            )\n",
    "                    )\n",
    "            )\n",
    "    )\n",
    "WHERE\n",
    "    (\n",
    "        (\n",
    "            (\n",
    "                (\n",
    "                    (\n",
    "                        (\n",
    "                            (\n",
    "                                (\n",
    "                                    (\n",
    "                                        (\n",
    "                                            (\n",
    "                                                (\n",
    "                                                    (\n",
    "                                                        (\n",
    "                                                            (\n",
    "                                                                (\n",
    "                                                                    (\n",
    "                                                                        (\n",
    "                                                                            (\n",
    "                                                                                (\n",
    "                                                                                    (\n",
    "                                                                                        iff(\"AGE\" IS NULL, 0, 1) + iff(\"INTUBED\" IS NULL, 0, 1)\n",
    "                                                                                    ) + iff(\"PREGNANT\" IS NULL, 0, 1)\n",
    "                                                                                ) + iff(\"HIPERTENSION\" IS NULL, 0, 1)\n",
    "                                                                            ) + iff(\"PNEUMONIA\" IS NULL, 0, 1)\n",
    "                                                                        ) + iff(\"OTHER_DISEASE\" IS NULL, 0, 1)\n",
    "                                                                    ) + iff(\"TOBACCO\" IS NULL, 0, 1)\n",
    "                                                                ) + iff(\"INMSUPR\" IS NULL, 0, 1)\n",
    "                                                            ) + iff(\"DIABETES\" IS NULL, 0, 1)\n",
    "                                                        ) + iff(\"TARGET\" IS NULL, 0, 1)\n",
    "                                                    ) + iff(\"COPD\" IS NULL, 0, 1)\n",
    "                                                ) + iff(\"CARDIOVASCULAR\" IS NULL, 0, 1)\n",
    "                                            ) + iff(\"MEDICAL_UNIT\" IS NULL, 0, 1)\n",
    "                                        ) + iff(\"PATIENT_TYPE\" IS NULL, 0, 1)\n",
    "                                    ) + iff(\"SEX\" IS NULL, 0, 1)\n",
    "                                ) + iff(\"DATE_DIED\" IS NULL, 0, 1)\n",
    "                            ) + iff(\"CLASIFFICATION_FINAL\" IS NULL, 0, 1)\n",
    "                        ) + iff(\"ASTHMA\" IS NULL, 0, 1)\n",
    "                    ) + iff(\"OBESITY\" IS NULL, 0, 1)\n",
    "                ) + iff(\"RENAL_CHRONIC\" IS NULL, 0, 1)\n",
    "            ) + iff(\"USMER\" IS NULL, 0, 1)\n",
    "        ) >= 21 :: INT\n",
    "    )\n",
    "```"
   ]
  },
  {
   "cell_type": "code",
   "execution_count": 38,
   "id": "2f98e0e4-b75b-438e-97ba-4c8b7874c633",
   "metadata": {},
   "outputs": [
    {
     "data": {
      "text/html": [
       "<div>\n",
       "<style scoped>\n",
       "    .dataframe tbody tr th:only-of-type {\n",
       "        vertical-align: middle;\n",
       "    }\n",
       "\n",
       "    .dataframe tbody tr th {\n",
       "        vertical-align: top;\n",
       "    }\n",
       "\n",
       "    .dataframe thead th {\n",
       "        text-align: right;\n",
       "    }\n",
       "</style>\n",
       "<table border=\"1\" class=\"dataframe\">\n",
       "  <thead>\n",
       "    <tr style=\"text-align: right;\">\n",
       "      <th></th>\n",
       "      <th>USMER</th>\n",
       "      <th>MEDICAL_UNIT</th>\n",
       "      <th>SEX</th>\n",
       "      <th>PATIENT_TYPE</th>\n",
       "      <th>INTUBED</th>\n",
       "      <th>PNEUMONIA</th>\n",
       "      <th>AGE</th>\n",
       "      <th>PREGNANT</th>\n",
       "      <th>DIABETES</th>\n",
       "      <th>COPD</th>\n",
       "      <th>ASTHMA</th>\n",
       "      <th>INMSUPR</th>\n",
       "      <th>HIPERTENSION</th>\n",
       "      <th>OTHER_DISEASE</th>\n",
       "      <th>CARDIOVASCULAR</th>\n",
       "      <th>OBESITY</th>\n",
       "      <th>RENAL_CHRONIC</th>\n",
       "      <th>TOBACCO</th>\n",
       "      <th>TARGET</th>\n",
       "    </tr>\n",
       "  </thead>\n",
       "  <tbody>\n",
       "    <tr>\n",
       "      <th>0</th>\n",
       "      <td>2</td>\n",
       "      <td>1</td>\n",
       "      <td>1</td>\n",
       "      <td>2</td>\n",
       "      <td>2</td>\n",
       "      <td>1</td>\n",
       "      <td>40</td>\n",
       "      <td>2</td>\n",
       "      <td>2</td>\n",
       "      <td>2</td>\n",
       "      <td>2</td>\n",
       "      <td>2</td>\n",
       "      <td>2</td>\n",
       "      <td>2</td>\n",
       "      <td>2</td>\n",
       "      <td>2</td>\n",
       "      <td>2</td>\n",
       "      <td>2</td>\n",
       "      <td>1</td>\n",
       "    </tr>\n",
       "    <tr>\n",
       "      <th>1</th>\n",
       "      <td>2</td>\n",
       "      <td>1</td>\n",
       "      <td>1</td>\n",
       "      <td>2</td>\n",
       "      <td>2</td>\n",
       "      <td>2</td>\n",
       "      <td>37</td>\n",
       "      <td>2</td>\n",
       "      <td>1</td>\n",
       "      <td>2</td>\n",
       "      <td>2</td>\n",
       "      <td>2</td>\n",
       "      <td>1</td>\n",
       "      <td>2</td>\n",
       "      <td>2</td>\n",
       "      <td>1</td>\n",
       "      <td>2</td>\n",
       "      <td>2</td>\n",
       "      <td>1</td>\n",
       "    </tr>\n",
       "    <tr>\n",
       "      <th>2</th>\n",
       "      <td>2</td>\n",
       "      <td>1</td>\n",
       "      <td>1</td>\n",
       "      <td>2</td>\n",
       "      <td>2</td>\n",
       "      <td>2</td>\n",
       "      <td>25</td>\n",
       "      <td>2</td>\n",
       "      <td>2</td>\n",
       "      <td>2</td>\n",
       "      <td>2</td>\n",
       "      <td>2</td>\n",
       "      <td>2</td>\n",
       "      <td>2</td>\n",
       "      <td>2</td>\n",
       "      <td>2</td>\n",
       "      <td>2</td>\n",
       "      <td>2</td>\n",
       "      <td>1</td>\n",
       "    </tr>\n",
       "    <tr>\n",
       "      <th>3</th>\n",
       "      <td>2</td>\n",
       "      <td>1</td>\n",
       "      <td>1</td>\n",
       "      <td>2</td>\n",
       "      <td>2</td>\n",
       "      <td>1</td>\n",
       "      <td>80</td>\n",
       "      <td>2</td>\n",
       "      <td>2</td>\n",
       "      <td>2</td>\n",
       "      <td>2</td>\n",
       "      <td>2</td>\n",
       "      <td>1</td>\n",
       "      <td>2</td>\n",
       "      <td>2</td>\n",
       "      <td>2</td>\n",
       "      <td>2</td>\n",
       "      <td>2</td>\n",
       "      <td>1</td>\n",
       "    </tr>\n",
       "    <tr>\n",
       "      <th>4</th>\n",
       "      <td>2</td>\n",
       "      <td>1</td>\n",
       "      <td>1</td>\n",
       "      <td>2</td>\n",
       "      <td>1</td>\n",
       "      <td>1</td>\n",
       "      <td>58</td>\n",
       "      <td>2</td>\n",
       "      <td>2</td>\n",
       "      <td>2</td>\n",
       "      <td>2</td>\n",
       "      <td>2</td>\n",
       "      <td>1</td>\n",
       "      <td>2</td>\n",
       "      <td>1</td>\n",
       "      <td>1</td>\n",
       "      <td>2</td>\n",
       "      <td>2</td>\n",
       "      <td>0</td>\n",
       "    </tr>\n",
       "    <tr>\n",
       "      <th>5</th>\n",
       "      <td>2</td>\n",
       "      <td>1</td>\n",
       "      <td>1</td>\n",
       "      <td>2</td>\n",
       "      <td>1</td>\n",
       "      <td>1</td>\n",
       "      <td>48</td>\n",
       "      <td>2</td>\n",
       "      <td>1</td>\n",
       "      <td>2</td>\n",
       "      <td>2</td>\n",
       "      <td>2</td>\n",
       "      <td>2</td>\n",
       "      <td>2</td>\n",
       "      <td>2</td>\n",
       "      <td>2</td>\n",
       "      <td>2</td>\n",
       "      <td>2</td>\n",
       "      <td>0</td>\n",
       "    </tr>\n",
       "    <tr>\n",
       "      <th>6</th>\n",
       "      <td>2</td>\n",
       "      <td>1</td>\n",
       "      <td>1</td>\n",
       "      <td>2</td>\n",
       "      <td>2</td>\n",
       "      <td>2</td>\n",
       "      <td>25</td>\n",
       "      <td>2</td>\n",
       "      <td>2</td>\n",
       "      <td>2</td>\n",
       "      <td>2</td>\n",
       "      <td>2</td>\n",
       "      <td>2</td>\n",
       "      <td>2</td>\n",
       "      <td>2</td>\n",
       "      <td>2</td>\n",
       "      <td>2</td>\n",
       "      <td>2</td>\n",
       "      <td>0</td>\n",
       "    </tr>\n",
       "    <tr>\n",
       "      <th>7</th>\n",
       "      <td>2</td>\n",
       "      <td>1</td>\n",
       "      <td>1</td>\n",
       "      <td>2</td>\n",
       "      <td>2</td>\n",
       "      <td>2</td>\n",
       "      <td>24</td>\n",
       "      <td>2</td>\n",
       "      <td>2</td>\n",
       "      <td>2</td>\n",
       "      <td>2</td>\n",
       "      <td>2</td>\n",
       "      <td>2</td>\n",
       "      <td>2</td>\n",
       "      <td>2</td>\n",
       "      <td>2</td>\n",
       "      <td>2</td>\n",
       "      <td>2</td>\n",
       "      <td>0</td>\n",
       "    </tr>\n",
       "    <tr>\n",
       "      <th>8</th>\n",
       "      <td>2</td>\n",
       "      <td>1</td>\n",
       "      <td>1</td>\n",
       "      <td>2</td>\n",
       "      <td>2</td>\n",
       "      <td>2</td>\n",
       "      <td>25</td>\n",
       "      <td>2</td>\n",
       "      <td>2</td>\n",
       "      <td>2</td>\n",
       "      <td>2</td>\n",
       "      <td>2</td>\n",
       "      <td>2</td>\n",
       "      <td>2</td>\n",
       "      <td>2</td>\n",
       "      <td>2</td>\n",
       "      <td>2</td>\n",
       "      <td>2</td>\n",
       "      <td>0</td>\n",
       "    </tr>\n",
       "    <tr>\n",
       "      <th>9</th>\n",
       "      <td>2</td>\n",
       "      <td>1</td>\n",
       "      <td>1</td>\n",
       "      <td>2</td>\n",
       "      <td>2</td>\n",
       "      <td>2</td>\n",
       "      <td>30</td>\n",
       "      <td>2</td>\n",
       "      <td>2</td>\n",
       "      <td>2</td>\n",
       "      <td>2</td>\n",
       "      <td>2</td>\n",
       "      <td>2</td>\n",
       "      <td>1</td>\n",
       "      <td>2</td>\n",
       "      <td>2</td>\n",
       "      <td>2</td>\n",
       "      <td>2</td>\n",
       "      <td>0</td>\n",
       "    </tr>\n",
       "  </tbody>\n",
       "</table>\n",
       "</div>"
      ],
      "text/plain": [
       "   USMER  MEDICAL_UNIT  SEX  PATIENT_TYPE  INTUBED  PNEUMONIA  AGE  PREGNANT  \\\n",
       "0      2             1    1             2        2          1   40         2   \n",
       "1      2             1    1             2        2          2   37         2   \n",
       "2      2             1    1             2        2          2   25         2   \n",
       "3      2             1    1             2        2          1   80         2   \n",
       "4      2             1    1             2        1          1   58         2   \n",
       "5      2             1    1             2        1          1   48         2   \n",
       "6      2             1    1             2        2          2   25         2   \n",
       "7      2             1    1             2        2          2   24         2   \n",
       "8      2             1    1             2        2          2   25         2   \n",
       "9      2             1    1             2        2          2   30         2   \n",
       "\n",
       "   DIABETES  COPD  ASTHMA  INMSUPR  HIPERTENSION  OTHER_DISEASE  \\\n",
       "0         2     2       2        2             2              2   \n",
       "1         1     2       2        2             1              2   \n",
       "2         2     2       2        2             2              2   \n",
       "3         2     2       2        2             1              2   \n",
       "4         2     2       2        2             1              2   \n",
       "5         1     2       2        2             2              2   \n",
       "6         2     2       2        2             2              2   \n",
       "7         2     2       2        2             2              2   \n",
       "8         2     2       2        2             2              2   \n",
       "9         2     2       2        2             2              1   \n",
       "\n",
       "   CARDIOVASCULAR  OBESITY  RENAL_CHRONIC  TOBACCO  TARGET  \n",
       "0               2        2              2        2       1  \n",
       "1               2        1              2        2       1  \n",
       "2               2        2              2        2       1  \n",
       "3               2        2              2        2       1  \n",
       "4               1        1              2        2       0  \n",
       "5               2        2              2        2       0  \n",
       "6               2        2              2        2       0  \n",
       "7               2        2              2        2       0  \n",
       "8               2        2              2        2       0  \n",
       "9               2        2              2        2       0  "
      ]
     },
     "execution_count": 38,
     "metadata": {},
     "output_type": "execute_result"
    }
   ],
   "source": [
    "snowpark_df.limit(10).to_pandas()"
   ]
  },
  {
   "cell_type": "markdown",
   "id": "d43f52d4-2efb-4bfd-978e-b6bd4a458eed",
   "metadata": {},
   "source": [
    "Write back to snowflake"
   ]
  },
  {
   "cell_type": "code",
   "execution_count": 39,
   "id": "858afd54-c42e-40c7-bbb2-4f40229af726",
   "metadata": {},
   "outputs": [],
   "source": [
    "snowpark_df.write.save_as_table(\n",
    "    table_name='COVID19_RECORDS_PROCESSED',\n",
    "    mode='overwrite'\n",
    ")"
   ]
  },
  {
   "cell_type": "code",
   "execution_count": 40,
   "id": "7e5219af-b7f8-47eb-a9a8-00c1190583fd",
   "metadata": {},
   "outputs": [],
   "source": [
    "del snowpark_df\n",
    "del df"
   ]
  },
  {
   "cell_type": "code",
   "execution_count": 41,
   "id": "89c1d3d4-f162-4688-bc09-45d6597d4a6c",
   "metadata": {},
   "outputs": [
    {
     "data": {
      "text/plain": [
       "21443"
      ]
     },
     "execution_count": 41,
     "metadata": {},
     "output_type": "execute_result"
    }
   ],
   "source": [
    "import gc\n",
    "\n",
    "gc.collect()"
   ]
  },
  {
   "cell_type": "markdown",
   "id": "c2944b87-4563-483b-a197-b904094dbade",
   "metadata": {},
   "source": [
    "# Model training"
   ]
  },
  {
   "cell_type": "code",
   "execution_count": 42,
   "id": "81f74f7c-d6e7-48c8-9590-82e56d6df830",
   "metadata": {},
   "outputs": [],
   "source": [
    "train_data = session.table(\"COVID19_RECORDS_PROCESSED\")"
   ]
  },
  {
   "cell_type": "code",
   "execution_count": 43,
   "id": "3f7dc70e-c89c-4a9a-96ed-6e761d4bd3eb",
   "metadata": {},
   "outputs": [
    {
     "data": {
      "text/plain": [
       "78188"
      ]
     },
     "execution_count": 43,
     "metadata": {},
     "output_type": "execute_result"
    }
   ],
   "source": [
    "train_data.count()"
   ]
  },
  {
   "cell_type": "code",
   "execution_count": 44,
   "id": "673d88d1-a45c-40d1-8e49-01d112045b6a",
   "metadata": {},
   "outputs": [
    {
     "name": "stdout",
     "output_type": "stream",
     "text": [
      "---------------------\n",
      "|\"SUM(\"\"TARGET\"\")\"  |\n",
      "---------------------\n",
      "|41926              |\n",
      "---------------------\n",
      "\n"
     ]
    }
   ],
   "source": [
    "train_data.select(F.sum(F.col(\"TARGET\"))).show()"
   ]
  },
  {
   "cell_type": "markdown",
   "id": "1d9c7ab6-bae5-4fa3-976c-b542182d144b",
   "metadata": {},
   "source": [
    "Let's start real model training part"
   ]
  },
  {
   "cell_type": "markdown",
   "id": "fcfac575-fcc3-4463-9c0f-7836b055d16d",
   "metadata": {},
   "source": [
    "First, create stage for machine learning models, called `ML_MODELS`"
   ]
  },
  {
   "cell_type": "code",
   "execution_count": 45,
   "id": "ac816732-2f55-45cd-8dc1-43af058c5f50",
   "metadata": {},
   "outputs": [
    {
     "name": "stdout",
     "output_type": "stream",
     "text": [
      "----------------------------------------------\n",
      "|\"status\"                                    |\n",
      "----------------------------------------------\n",
      "|Stage area ML_MODELS successfully created.  |\n",
      "----------------------------------------------\n",
      "\n"
     ]
    }
   ],
   "source": [
    "session.sql('CREATE OR REPLACE STAGE ML_MODELS').show()"
   ]
  },
  {
   "cell_type": "code",
   "execution_count": 46,
   "id": "433e13a6-f923-4e97-aa7b-c2017e3e1d13",
   "metadata": {},
   "outputs": [],
   "source": [
    "def train_dt_procedure(\n",
    "    session: Session,\n",
    "    training_table: str,\n",
    "    feature_cols: list,\n",
    "    target_col: str,\n",
    "    model_name: str,\n",
    ") -> T.Variant:\n",
    "    \n",
    "    \"\"\"\n",
    "    This will be our training procedure. Later we will register this as snowflake procedure.\n",
    "    \n",
    "    training_table: snowflake table name to be used for training task\n",
    "    feature_cols: list of columns to be used in training\n",
    "    target_col: target column to be used\n",
    "    model_name: model name to used for model saving purpose\n",
    "    \n",
    "    \"\"\"\n",
    "\n",
    "    #convert as pandas DF, rest of the steps similar to the local model training and saving.\n",
    "    local_training_data = session.table(training_table).to_pandas()\n",
    "\n",
    "    from sklearn.tree import DecisionTreeClassifier\n",
    "\n",
    "    X = local_training_data[feature_cols]\n",
    "    y = local_training_data[target_col]\n",
    "\n",
    "    model = DecisionTreeClassifier()\n",
    "    model.fit(X, y)\n",
    "\n",
    "    feat_importance = pd.DataFrame(\n",
    "        model.feature_importances_, feature_cols, columns=[\"FeatImportance\"]\n",
    "    ).to_dict()\n",
    "\n",
    "    from joblib import dump\n",
    "\n",
    "    dump(model, \"/tmp/\" + model_name)\n",
    "    session.file.put(\n",
    "        \"/tmp/\" + model_name, \"@ML_MODELS\", auto_compress=False, overwrite=True\n",
    "    )\n",
    "    return feat_importance\n"
   ]
  },
  {
   "cell_type": "code",
   "execution_count": 47,
   "id": "a9cfd6ef-30dd-4745-ab81-97feae818c0a",
   "metadata": {},
   "outputs": [],
   "source": [
    "sproc_train_dt_model = session.sproc.register(\n",
    "                    func=train_dt_procedure, \n",
    "                    name='sproc_train_dt_model', \n",
    "                    is_permanent=True, \n",
    "                    replace=True, \n",
    "                    stage_location='@ML_MODELS', \n",
    "                    packages=[\n",
    "                        'snowflake-snowpark-python',\n",
    "                        'scikit-learn',\n",
    "                        'joblib']\n",
    ")"
   ]
  },
  {
   "cell_type": "code",
   "execution_count": 48,
   "id": "3c794edb-9d51-471e-a67e-831437551665",
   "metadata": {},
   "outputs": [],
   "source": [
    "train_data_pd = train_data.to_pandas()"
   ]
  },
  {
   "cell_type": "code",
   "execution_count": 49,
   "id": "9ec4ab23-384e-4e01-b85d-28ac44b2418f",
   "metadata": {},
   "outputs": [],
   "source": [
    "#create train and test dataframes\n",
    "train_data_pd,test_data_pd = train_test_split(\n",
    "                                        train_data_pd,\n",
    "                                        stratify=train_data_pd['TARGET'],\n",
    "                                        test_size=0.1\n",
    ")"
   ]
  },
  {
   "cell_type": "code",
   "execution_count": 50,
   "id": "e1e90b49-469f-4f0c-920e-0179caf1fae5",
   "metadata": {},
   "outputs": [
    {
     "data": {
      "text/plain": [
       "<snowflake.snowpark.table.Table at 0x28a2c95f160>"
      ]
     },
     "execution_count": 50,
     "metadata": {},
     "output_type": "execute_result"
    }
   ],
   "source": [
    "#writing as tempoary tables for mode training and inferencing part\n",
    "session.write_pandas(train_data_pd, table_name='TRAIN_DATA_TMP', auto_create_table=True,table_type=\"temporary\")\n",
    "session.write_pandas(test_data_pd, table_name='TEST_DATA_TMP', auto_create_table=True,table_type=\"temporary\")"
   ]
  },
  {
   "cell_type": "code",
   "execution_count": 51,
   "id": "f2f93765-112d-45e3-8582-c0d2fe330cb9",
   "metadata": {},
   "outputs": [],
   "source": [
    "feature_cols = train_data.columns\n",
    "feature_cols.remove('TARGET')\n",
    "target_col = 'TARGET'\n",
    "model_name = 'decisiontree.model'\n",
    "\n",
    "model_response = sproc_train_dt_model('TRAIN_DATA_TMP', \n",
    "                                            feature_cols, \n",
    "                                            target_col,\n",
    "                                            model_name, \n",
    "                                            session=session\n",
    "                                           )"
   ]
  },
  {
   "cell_type": "code",
   "execution_count": 52,
   "id": "25f58489-62f1-490b-985f-f28e7464668f",
   "metadata": {},
   "outputs": [
    {
     "name": "stdout",
     "output_type": "stream",
     "text": [
      "{\n",
      "  \"FeatImportance\": {\n",
      "    \"AGE\": 0.4495406764847183,\n",
      "    \"ASTHMA\": 0.02734844145002929,\n",
      "    \"CARDIOVASCULAR\": 0.026163656824010745,\n",
      "    \"COPD\": 0.015610870661814366,\n",
      "    \"DIABETES\": 0.06058696387222489,\n",
      "    \"HIPERTENSION\": 0.06046161472931457,\n",
      "    \"INMSUPR\": 0.024452172596442383,\n",
      "    \"INTUBED\": 0.025061840298817285,\n",
      "    \"MEDICAL_UNIT\": 0.09498782681802134,\n",
      "    \"OBESITY\": 0.028268191523668378,\n",
      "    \"OTHER_DISEASE\": 0.025908224512469692,\n",
      "    \"PATIENT_TYPE\": 0,\n",
      "    \"PNEUMONIA\": 0.0412125714132776,\n",
      "    \"PREGNANT\": 0.01335446540097891,\n",
      "    \"RENAL_CHRONIC\": 0.018501343421274265,\n",
      "    \"SEX\": 0,\n",
      "    \"TOBACCO\": 0.027695748397739643,\n",
      "    \"USMER\": 0.06084539159519835\n",
      "  }\n",
      "}\n"
     ]
    }
   ],
   "source": [
    "print(model_response)"
   ]
  },
  {
   "cell_type": "code",
   "execution_count": 53,
   "id": "8ed3f0c6-c393-4f37-b0bd-2c09338efaa5",
   "metadata": {},
   "outputs": [
    {
     "name": "stdout",
     "output_type": "stream",
     "text": [
      "-------------------------------------------------------------------------------------------------------------\n",
      "|\"name\"                        |\"size\"   |\"md5\"                             |\"last_modified\"                |\n",
      "-------------------------------------------------------------------------------------------------------------\n",
      "|ml_models/decisiontree.model  |2618592  |71ccb5ac5ad7739e8c495ee0a989b06a  |Mon, 26 Dec 2022 05:51:59 GMT  |\n",
      "-------------------------------------------------------------------------------------------------------------\n",
      "\n"
     ]
    }
   ],
   "source": [
    "session.sql('LIST @ML_MODELS').show()"
   ]
  },
  {
   "cell_type": "code",
   "execution_count": 54,
   "id": "427d160d-b571-4215-87b2-2405ad102020",
   "metadata": {},
   "outputs": [
    {
     "data": {
      "image/png": "[encoded data removed]",
      "text/plain": [
       "<Figure size 1200x500 with 1 Axes>"
      ]
     },
     "metadata": {},
     "output_type": "display_data"
    }
   ],
   "source": [
    "feature_coefficients = pd.DataFrame(eval(model_response))\n",
    "\n",
    "feature_coefficients\\\n",
    ".sort_values(by='FeatImportance',ascending=False)\\\n",
    ".plot\\\n",
    ".bar(y='FeatImportance', figsize=(12,5))\n",
    "plt.show()"
   ]
  },
  {
   "cell_type": "markdown",
   "id": "09c16875-f96b-4752-9ea1-c47305858bdf",
   "metadata": {},
   "source": [
    "Let's create UDF for getting model predictions for unseen data"
   ]
  },
  {
   "cell_type": "code",
   "execution_count": 55,
   "id": "c8f9f19e-449f-44af-916f-b842bab64dfe",
   "metadata": {},
   "outputs": [],
   "source": [
    "def udf_predict_risk_score(*args) -> float:\n",
    "    import os\n",
    "    import sys\n",
    "    from joblib import load\n",
    "    \n",
    "    IMPORT_DIRECTORY_NAME = \"snowflake_import_directory\"\n",
    "    import_dir = sys._xoptions[IMPORT_DIRECTORY_NAME]\n",
    "    model_name = 'decisiontree.model'\n",
    "    model = load(import_dir+model_name)\n",
    "    scored_data = model.predict(pd.DataFrame([args]))[0]\n",
    "    return scored_data"
   ]
  },
  {
   "cell_type": "code",
   "execution_count": 56,
   "id": "800f6a12-12d6-40c7-a913-8e56fbe663e4",
   "metadata": {},
   "outputs": [],
   "source": [
    "udf_risk_score_model = session.udf.register(\n",
    "                            func=udf_predict_risk_score, \n",
    "                            name=\"udf_risk_score_model\", \n",
    "                            stage_location='@ML_MODELS',\n",
    "                            input_types=[T.FloatType()]*len(feature_cols),\n",
    "                            return_type = T.FloatType(),\n",
    "                            replace=True, \n",
    "                            is_permanent=True, \n",
    "                            imports=['@ML_MODELS/decisiontree.model'],\n",
    "                            packages=['scikit-learn==1.1.1','pandas','joblib'], \n",
    "                            session=session\n",
    ")"
   ]
  },
  {
   "cell_type": "code",
   "execution_count": 57,
   "id": "1a97935f-ff3e-43b5-a0b8-271d4eff7e5a",
   "metadata": {},
   "outputs": [],
   "source": [
    "test_data_sf = session.table(\"TEST_DATA_TMP\")"
   ]
  },
  {
   "cell_type": "code",
   "execution_count": 58,
   "id": "90295167-04f6-4fd9-86a2-a149490a37fb",
   "metadata": {},
   "outputs": [],
   "source": [
    "test_data_sf = test_data_sf.with_column('PREDICTION', udf_risk_score_model(*feature_cols))"
   ]
  },
  {
   "cell_type": "code",
   "execution_count": 74,
   "id": "e3f6932e-bf62-4377-b44d-690c5a7c9341",
   "metadata": {},
   "outputs": [
    {
     "name": "stdout",
     "output_type": "stream",
     "text": [
      "SELECT \"USMER\", \"MEDICAL_UNIT\", \"SEX\", \"PATIENT_TYPE\", \"INTUBED\", \"PNEUMONIA\", \"AGE\", \"PREGNANT\", \"DIABETES\", \"COPD\", \"ASTHMA\", \"INMSUPR\", \"HIPERTENSION\", \"OTHER_DISEASE\", \"CARDIOVASCULAR\", \"OBESITY\", \"RENAL_CHRONIC\", \"TOBACCO\", \"TARGET\", udf_risk_score_model(\"USMER\", \"MEDICAL_UNIT\", \"SEX\", \"PATIENT_TYPE\", \"INTUBED\", \"PNEUMONIA\", \"AGE\", \"PREGNANT\", \"DIABETES\", \"COPD\", \"ASTHMA\", \"INMSUPR\", \"HIPERTENSION\", \"OTHER_DISEASE\", \"CARDIOVASCULAR\", \"OBESITY\", \"RENAL_CHRONIC\", \"TOBACCO\") AS \"PREDICTION\" FROM ( SELECT  *  FROM (TEST_DATA_TMP))\n"
     ]
    }
   ],
   "source": [
    "print(test_data_sf.queries['queries'][0])"
   ]
  },
  {
   "cell_type": "code",
   "execution_count": 71,
   "id": "f18c70cb-6e66-4bf2-9d76-b533c42592e5",
   "metadata": {},
   "outputs": [
    {
     "data": {
      "text/plain": [
       "['USMER',\n",
       " 'MEDICAL_UNIT',\n",
       " 'SEX',\n",
       " 'PATIENT_TYPE',\n",
       " 'INTUBED',\n",
       " 'PNEUMONIA',\n",
       " 'AGE',\n",
       " 'PREGNANT',\n",
       " 'DIABETES',\n",
       " 'COPD',\n",
       " 'ASTHMA',\n",
       " 'INMSUPR',\n",
       " 'HIPERTENSION',\n",
       " 'OTHER_DISEASE',\n",
       " 'CARDIOVASCULAR',\n",
       " 'OBESITY',\n",
       " 'RENAL_CHRONIC',\n",
       " 'TOBACCO']"
      ]
     },
     "execution_count": 71,
     "metadata": {},
     "output_type": "execute_result"
    }
   ],
   "source": [
    "feature_cols"
   ]
  },
  {
   "cell_type": "code",
   "execution_count": 59,
   "id": "71e2cb1d-6ab9-4362-a89c-b309128aeb59",
   "metadata": {},
   "outputs": [],
   "source": [
    "def get_model_report(test_df):\n",
    "    from sklearn.metrics import confusion_matrix,precision_score,recall_score,f1_score,ConfusionMatrixDisplay\n",
    "    \n",
    "    target = test_df.select(\"TARGET\").to_pandas()\n",
    "    predictions = test_df.select(\"PREDICTION\").to_pandas()\n",
    "    \n",
    "    cm = confusion_matrix(target,predictions)\n",
    "    precision = precision_score(target,predictions)\n",
    "    recall = recall_score(target,predictions)\n",
    "    f1= f1_score(target,predictions)\n",
    "    \n",
    "    print(f\"Model perfomances Recall: {recall:.2}, Precision: {precision:.2}\\n\")\n",
    "    \n",
    "    cmd = ConfusionMatrixDisplay(cm)\n",
    "    cmd.plot()"
   ]
  },
  {
   "cell_type": "code",
   "execution_count": 60,
   "id": "8fd24e62-b598-4a7e-b49c-0cbbd921db92",
   "metadata": {},
   "outputs": [
    {
     "name": "stdout",
     "output_type": "stream",
     "text": [
      "Model perfomances Recall: 0.53, Precision: 0.54\n",
      "\n"
     ]
    },
    {
     "data": {
      "image/png": "[encoded data removed]",
      "text/plain": [
       "<Figure size 640x480 with 2 Axes>"
      ]
     },
     "metadata": {},
     "output_type": "display_data"
    }
   ],
   "source": [
    "get_model_report(test_df=test_data_sf)"
   ]
  },
  {
   "cell_type": "markdown",
   "id": "f4b688fb-ee87-4304-bdc4-5a93c09c4f3e",
   "metadata": {},
   "source": [
    "Additionaly we can host locally trained model in snowflake"
   ]
  },
  {
   "cell_type": "code",
   "execution_count": 61,
   "id": "d0850d1f-b62e-4e79-a22f-074f7caafb73",
   "metadata": {},
   "outputs": [],
   "source": [
    "def train_model_locally(train):\n",
    "    from sklearn.tree import DecisionTreeClassifier\n",
    "    \n",
    "    #convert into pd dataframes\n",
    "    \n",
    "    train = train.to_pandas()\n",
    "    \n",
    "    xtrain,ytrain = train.drop('TARGET',axis=1),train['TARGET']\n",
    "    \n",
    "    model = DecisionTreeClassifier()\n",
    "    model.fit(xtrain,ytrain)\n",
    "    \n",
    "    return model"
   ]
  },
  {
   "cell_type": "code",
   "execution_count": 62,
   "id": "d4024f29-4878-4459-8998-6beb619cfc02",
   "metadata": {},
   "outputs": [],
   "source": [
    "train_data_sf = session.table(\"TRAIN_DATA_TMP\")"
   ]
  },
  {
   "cell_type": "code",
   "execution_count": 63,
   "id": "4b82d47a-d2c8-4bf7-a15f-d424c44d8aa0",
   "metadata": {},
   "outputs": [],
   "source": [
    "model = train_model_locally(train_data_sf)"
   ]
  },
  {
   "cell_type": "code",
   "execution_count": 64,
   "id": "943de18c-bee3-44f5-8927-bfbff88da965",
   "metadata": {},
   "outputs": [
    {
     "data": {
      "text/plain": [
       "['predict_risk_score.joblib']"
      ]
     },
     "execution_count": 64,
     "metadata": {},
     "output_type": "execute_result"
    }
   ],
   "source": [
    "import joblib\n",
    "\n",
    "joblib.dump(model, 'predict_risk_score.joblib')"
   ]
  },
  {
   "cell_type": "code",
   "execution_count": 65,
   "id": "a2277611-b2fc-4b67-bbfe-27d722411182",
   "metadata": {},
   "outputs": [
    {
     "data": {
      "text/plain": [
       "[PutResult(source='predict_risk_score.joblib', target='predict_risk_score.joblib', source_size=2615954, target_size=2615968, source_compression='NONE', target_compression='NONE', status='UPLOADED', message='')]"
      ]
     },
     "execution_count": 65,
     "metadata": {},
     "output_type": "execute_result"
    }
   ],
   "source": [
    "session.file.put(\n",
    "    \"predict_risk_score.joblib\", \"@ML_MODELS\", auto_compress=False, overwrite=True\n",
    ")"
   ]
  },
  {
   "cell_type": "code",
   "execution_count": 66,
   "id": "932d01b5-3a83-4dd4-b93d-a58db0caf09a",
   "metadata": {},
   "outputs": [
    {
     "data": {
      "text/plain": [
       "\u001b[1;31mSignature:\u001b[0m \u001b[0msession\u001b[0m\u001b[1;33m.\u001b[0m\u001b[0madd_import\u001b[0m\u001b[1;33m(\u001b[0m\u001b[0mpath\u001b[0m\u001b[1;33m:\u001b[0m \u001b[0mstr\u001b[0m\u001b[1;33m,\u001b[0m \u001b[0mimport_path\u001b[0m\u001b[1;33m:\u001b[0m \u001b[0mUnion\u001b[0m\u001b[1;33m[\u001b[0m\u001b[0mstr\u001b[0m\u001b[1;33m,\u001b[0m \u001b[0mNoneType\u001b[0m\u001b[1;33m]\u001b[0m \u001b[1;33m=\u001b[0m \u001b[1;32mNone\u001b[0m\u001b[1;33m)\u001b[0m \u001b[1;33m->\u001b[0m \u001b[1;32mNone\u001b[0m\u001b[1;33m\u001b[0m\u001b[1;33m\u001b[0m\u001b[0m\n",
       "\u001b[1;31mDocstring:\u001b[0m\n",
       "Registers a remote file in stage or a local file as an import of a user-defined function\n",
       "(UDF). The local file can be a compressed file (e.g., zip), a Python file (.py),\n",
       "a directory, or any other file resource. You can also find examples in\n",
       ":class:`~snowflake.snowpark.udf.UDFRegistration`.\n",
       "\n",
       "Args:\n",
       "    path: The path of a local file or a remote file in the stage. In each case:\n",
       "\n",
       "        * if the path points to a local file, this file will be uploaded to the\n",
       "          stage where the UDF is registered and Snowflake will import the file when\n",
       "          executing that UDF.\n",
       "\n",
       "        * if the path points to a local directory, the directory will be compressed\n",
       "          as a zip file and will be uploaded to the stage where the UDF is registered\n",
       "          and Snowflake will import the file when executing that UDF.\n",
       "\n",
       "        * if the path points to a file in a stage, the file will be included in the\n",
       "          imports when executing a UDF.\n",
       "\n",
       "    import_path: The relative Python import path for a UDF.\n",
       "        If it is not provided or it is None, the UDF will import the package\n",
       "        directly without any leading package/module. This argument will become\n",
       "        a no-op if the path  points to a stage file or a non-Python local file.\n",
       "\n",
       "Example::\n",
       "\n",
       "    >>> from snowflake.snowpark.types import IntegerType\n",
       "    >>> from resources.test_udf_dir.test_udf_file import mod5\n",
       "    >>> session.add_import(\"tests/resources/test_udf_dir/test_udf_file.py\", import_path=\"resources.test_udf_dir.test_udf_file\")\n",
       "    >>> mod5_and_plus1_udf = session.udf.register(\n",
       "    ...     lambda x: mod5(x) + 1,\n",
       "    ...     return_type=IntegerType(),\n",
       "    ...     input_types=[IntegerType()]\n",
       "    ... )\n",
       "    >>> session.range(1, 8, 2).select(mod5_and_plus1_udf(\"id\")).to_df(\"col1\").collect()\n",
       "    [Row(COL1=2), Row(COL1=4), Row(COL1=1), Row(COL1=3)]\n",
       "    >>> session.clear_imports()\n",
       "\n",
       "Note:\n",
       "    1. In favor of the lazy execution, the file will not be uploaded to the stage\n",
       "    immediately, and it will be uploaded when a UDF is created.\n",
       "\n",
       "    2. The Snowpark library calculates a sha256 checksum for every file/directory.\n",
       "    Each file is uploaded to a subdirectory named after the checksum for the\n",
       "    file in the stage. If there is an existing file or directory, the Snowpark\n",
       "    library will compare their checksums to determine whether it should be re-uploaded.\n",
       "    Therefore, after uploading a local file to the stage, if the user makes\n",
       "    some changes to this file and intends to upload it again, just call this\n",
       "    function with the file path again, the existing file in the stage will be\n",
       "    overwritten by the re-uploaded file.\n",
       "\n",
       "    3. Adding two files with the same file name is not allowed, because UDFs\n",
       "    can't be created with two imports with the same name.\n",
       "\n",
       "    4. This method will register the file for all UDFs created later in the current\n",
       "    session. If you only want to import a file for a specific UDF, you can use\n",
       "    ``imports`` argument in :func:`functions.udf` or\n",
       "    :meth:`session.udf.register() <snowflake.snowpark.udf.UDFRegistration.register>`.\n",
       "\u001b[1;31mFile:\u001b[0m      c:\\users\\ransaka_09914\\anaconda3\\envs\\getting_started_snowpark_python\\lib\\site-packages\\snowflake\\snowpark\\session.py\n",
       "\u001b[1;31mType:\u001b[0m      method\n"
      ]
     },
     "metadata": {},
     "output_type": "display_data"
    }
   ],
   "source": [
    "?session.add_import"
   ]
  },
  {
   "cell_type": "code",
   "execution_count": 67,
   "id": "4654679d-e4a5-41d0-bdd6-dffbd69aa117",
   "metadata": {},
   "outputs": [],
   "source": [
    "session.clear_imports()\n",
    "session.clear_packages()\n",
    "session.add_import(\"@ML_MODELS/predict_risk_score.joblib\")\n",
    "session.add_packages(\"joblib==1.1.0\", \"scikit-learn==1.1.1\", \"pandas==1.3.2\")"
   ]
  },
  {
   "cell_type": "code",
   "execution_count": 68,
   "id": "41c4c563-6335-45fd-b63d-f0008ef8163f",
   "metadata": {},
   "outputs": [],
   "source": [
    "from snowflake.snowpark.types import PandasSeries, PandasDataFrame\n",
    "\n",
    "\n",
    "def read_file(filename):\n",
    "    import joblib\n",
    "    import sys\n",
    "    import os\n",
    "    \n",
    "    import_dir = sys._xoptions.get(\"snowflake_import_directory\")\n",
    "    if import_dir:\n",
    "        with open(os.path.join(import_dir, filename), 'rb') as file:\n",
    "            m = joblib.load(file)\n",
    "            return m\n",
    "\n",
    "@F.udf(name = 'predict_risk_score', is_permanent = True, replace = True, stage_location = '@ML_MODELS')\n",
    "def predict_risk_score(ds: PandasSeries[dict]) -> PandasSeries[float]:\n",
    "    df = pd.io.json.json_normalize(ds)[feature_cols]\n",
    "    pipeline = read_file('predict_risk_score.joblib')\n",
    "    return pipeline.predict_proba(df)[:,1]"
   ]
  },
  {
   "cell_type": "code",
   "execution_count": 69,
   "id": "b26b67f0-2a93-471f-ba2d-b9ada84ae6eb",
   "metadata": {},
   "outputs": [
    {
     "name": "stdout",
     "output_type": "stream",
     "text": [
      "------------------------------------------------------------------------\n",
      "|\"property\"       |\"value\"                                             |\n",
      "------------------------------------------------------------------------\n",
      "|signature        |()                                                  |\n",
      "|returns          |FLOAT                                               |\n",
      "|language         |PYTHON                                              |\n",
      "|null handling    |CALLED ON NULL INPUT                                |\n",
      "|volatility       |VOLATILE                                            |\n",
      "|body             |                                                    |\n",
      "|                 |import pickle                                       |\n",
      "|                 |                                                    |\n",
      "|                 |func = pickle.loads(bytes.fromhex('800595050400...  |\n",
      "|                 |# The following comment contains the UDF source...  |\n",
      "|                 |# import pandas as pd                               |\n",
      "|                 |# def read_file(filename):                          |\n",
      "|                 |#     import joblib                                 |\n",
      "|                 |#     import sys                                    |\n",
      "|                 |#     import os                                     |\n",
      "|                 |#                                                   |\n",
      "|                 |#     import_dir = sys._xoptions.get(\"snowflake...  |\n",
      "|                 |#     if import_dir:                                |\n",
      "|                 |#         with open(os.path.join(import_dir, fi...  |\n",
      "|                 |#             m = joblib.load(file)                 |\n",
      "|                 |#             return m                              |\n",
      "|                 |# @F.udf(name = 'predict_risk_score', is_perman...  |\n",
      "|                 |# def predict_risk_score(*args) -> PandasSeries...  |\n",
      "|                 |#     df = pd.DataFrame([args])                     |\n",
      "|                 |#     pipeline = read_file('predict_risk_score....  |\n",
      "|                 |#     return pipeline.predict_proba(df)[:,1]        |\n",
      "|                 |#                                                   |\n",
      "|                 |# func = predict_risk_score                         |\n",
      "|                 |                                                    |\n",
      "|                 |                                                    |\n",
      "|                 |                                                    |\n",
      "|                 |from threading import RLock                         |\n",
      "|                 |                                                    |\n",
      "|                 |lock = RLock()                                      |\n",
      "|                 |                                                    |\n",
      "|                 |class InvokedFlag:                                  |\n",
      "|                 |    def __init__(self):                             |\n",
      "|                 |        self.invoked = False                        |\n",
      "|                 |                                                    |\n",
      "|                 |def lock_function_once(f, flag):                    |\n",
      "|                 |    def wrapper(*args, **kwargs):                   |\n",
      "|                 |        if not flag.invoked:                        |\n",
      "|                 |            with lock:                              |\n",
      "|                 |                if not flag.invoked:                |\n",
      "|                 |                    result = f(*args, **kwargs)     |\n",
      "|                 |                    flag.invoked = True             |\n",
      "|                 |                    return result                   |\n",
      "|                 |                return f(*args, **kwargs)           |\n",
      "|                 |        return f(*args, **kwargs)                   |\n",
      "|                 |    return wrapper                                  |\n",
      "|                 |                                                    |\n",
      "|                 |                                                    |\n",
      "|                 |invoked = InvokedFlag()                             |\n",
      "|                 |                                                    |\n",
      "|                 |def compute(df):                                    |\n",
      "|                 |    return lock_function_once(func, invoked)(*[...  |\n",
      "|                 |                                                    |\n",
      "|                 |import pandas                                       |\n",
      "|                 |                                                    |\n",
      "|                 |compute._sf_vectorized_input = pandas.DataFrame     |\n",
      "|                 |                                                    |\n",
      "|imports          |[@HOL_DB.PUBLIC.ML_MODELS/predict_risk_score.jo...  |\n",
      "|handler          |compute                                             |\n",
      "|runtime_version  |3.8                                                 |\n",
      "|packages         |['joblib==1.1.0','scikit-learn==1.1.1','cacheto...  |\n",
      "------------------------------------------------------------------------\n",
      "\n"
     ]
    }
   ],
   "source": [
    "session.sql(\"DESC FUNCTION PREDICT_RISK_SCORE()\").show()"
   ]
  },
  {
   "cell_type": "code",
   "execution_count": 70,
   "id": "21ec29e6-9564-46c3-8fef-9bf418c40a27",
   "metadata": {},
   "outputs": [
    {
     "name": "stdout",
     "output_type": "stream",
     "text": [
      "----------------------------------\n",
      "|\"TARGET\"  |\"PREDICTION\"         |\n",
      "----------------------------------\n",
      "|1         |0.0                  |\n",
      "|0         |1.0                  |\n",
      "|0         |0.0                  |\n",
      "|0         |0.0                  |\n",
      "|1         |0.625                |\n",
      "|0         |0.6666666666666666   |\n",
      "|0         |0.8148148148148148   |\n",
      "|1         |0.4666666666666667   |\n",
      "|0         |0.5                  |\n",
      "|0         |0.4375               |\n",
      "|1         |0.5454545454545454   |\n",
      "|1         |0.0                  |\n",
      "|1         |0.8                  |\n",
      "|1         |1.0                  |\n",
      "|1         |0.46153846153846156  |\n",
      "|1         |0.6595744680851063   |\n",
      "|1         |0.75                 |\n",
      "|0         |0.0                  |\n",
      "|0         |0.0                  |\n",
      "|0         |0.0                  |\n",
      "----------------------------------\n",
      "\n"
     ]
    }
   ],
   "source": [
    "test_data_sf.with_column(\n",
    "    'PREDICTION', \n",
    "    predict_risk_score(F.object_construct('*')))\\\n",
    ".select(\"TARGET\",\"PREDICTION\").show(20)"
   ]
  }
 ],
 "metadata": {
  "kernelspec": {
   "display_name": "Python 3 (ipykernel)",
   "language": "python",
   "name": "python3"
  },
  "language_info": {
   "codemirror_mode": {
    "name": "ipython",
    "version": 3
   },
   "file_extension": ".py",
   "mimetype": "text/x-python",
   "name": "python",
   "nbconvert_exporter": "python",
   "pygments_lexer": "ipython3",
   "version": "3.8.13"
  }
 },
 "nbformat": 4,
 "nbformat_minor": 5
}
